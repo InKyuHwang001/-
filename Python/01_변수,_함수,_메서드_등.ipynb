{
  "nbformat": 4,
  "nbformat_minor": 0,
  "metadata": {
    "colab": {
      "name": "01.변수, 함수, 메서드 등.ipynb",
      "provenance": [],
      "collapsed_sections": [
        "hckmnhnq2rXK",
        "Oj5tEHgg3Dqh",
        "ZU5Oj2rb5Dry",
        "rgnW1y135WrE",
        "k_6jfHxJ391U",
        "DuR2lX_B5_Nz",
        "1OBfKc7W6pmN",
        "DUELpz4c-lvi",
        "F2TNrWLW-68v",
        "0sgNfHe4_OFV"
      ]
    },
    "kernelspec": {
      "name": "python3",
      "display_name": "Python 3"
    },
    "language_info": {
      "name": "python"
    },
    "accelerator": "GPU",
    "gpuClass": "standard"
  },
  "cells": [
    {
      "cell_type": "markdown",
      "source": [
        "# 변수와 파이썬 기본 구조\n"
      ],
      "metadata": {
        "id": "FVRjEcD-2KbT"
      }
    },
    {
      "cell_type": "markdown",
      "source": [
        "## 변수"
      ],
      "metadata": {
        "id": "hckmnhnq2rXK"
      }
    },
    {
      "cell_type": "code",
      "execution_count": null,
      "metadata": {
        "colab": {
          "base_uri": "https://localhost:8080/"
        },
        "id": "HPQx9RGm2D_E",
        "outputId": "e2d64fab-da89-4462-d94b-444ba6514d94"
      },
      "outputs": [
        {
          "output_type": "execute_result",
          "data": {
            "text/plain": [
              "1"
            ]
          },
          "metadata": {},
          "execution_count": 1
        }
      ],
      "source": [
        "vsum = 1\n",
        "vsum"
      ]
    },
    {
      "cell_type": "code",
      "source": [
        "v1='abcd'\n",
        "v1"
      ],
      "metadata": {
        "colab": {
          "base_uri": "https://localhost:8080/",
          "height": 35
        },
        "id": "a3i3nQvz2aIm",
        "outputId": "3f84a11b-b809-414f-a3c2-5cf442cdf21c"
      },
      "execution_count": null,
      "outputs": [
        {
          "output_type": "execute_result",
          "data": {
            "text/plain": [
              "'abcd'"
            ],
            "application/vnd.google.colaboratory.intrinsic+json": {
              "type": "string"
            }
          },
          "metadata": {},
          "execution_count": 2
        }
      ]
    },
    {
      "cell_type": "markdown",
      "source": [
        "### 모듈"
      ],
      "metadata": {
        "id": "_2_tlY7N2g8N"
      }
    },
    {
      "cell_type": "code",
      "source": [
        "# 패키지(package)\n",
        "# import 모듈 호출(loading)\n",
        "round(1.5)\n",
        "#trunc(1.5) 불가\n",
        "#1) 모듈 호출 : 하위 함수 (모듈명, 함수명)\n",
        "import math\n",
        "import math as ma  # as (alias: 별칭)\n",
        "\n",
        "ma.trunc(1.5)"
      ],
      "metadata": {
        "colab": {
          "base_uri": "https://localhost:8080/"
        },
        "id": "P934dsVf2fRP",
        "outputId": "1e95f8f5-2161-4dc0-e61c-78361f6e4e1d"
      },
      "execution_count": null,
      "outputs": [
        {
          "output_type": "execute_result",
          "data": {
            "text/plain": [
              "1"
            ]
          },
          "metadata": {},
          "execution_count": 3
        }
      ]
    },
    {
      "cell_type": "markdown",
      "source": [
        "## 파이썬 기본 구조"
      ],
      "metadata": {
        "id": "06PKA9VF2-xv"
      }
    },
    {
      "cell_type": "markdown",
      "source": [
        "### 1.리스트(list) [] cf. R : c()"
      ],
      "metadata": {
        "id": "Oj5tEHgg3Dqh"
      }
    },
    {
      "cell_type": "markdown",
      "source": [
        "기본 자료 구조 (여러 상수를 동시 전달)\n",
        "\n",
        "1차원\n",
        "\n",
        "서로 다른 데이터 타입 가능"
      ],
      "metadata": {
        "id": "M6imkT6y3IGB"
      }
    },
    {
      "cell_type": "code",
      "source": [
        "# 1) 리스트 생성\n",
        "l1=[1,2,3,4]\n",
        "print(l1)\n",
        "print(type(l1))"
      ],
      "metadata": {
        "colab": {
          "base_uri": "https://localhost:8080/"
        },
        "id": "GHJNht5N2lHR",
        "outputId": "ab9bc8f4-2236-4696-ac4a-e50473403ce7"
      },
      "execution_count": null,
      "outputs": [
        {
          "output_type": "stream",
          "name": "stdout",
          "text": [
            "[1, 2, 3, 4]\n",
            "<class 'list'>\n"
          ]
        }
      ]
    },
    {
      "cell_type": "code",
      "source": [
        "# tuple : 상수 (변하지 않는 값 -> 변경이 불사능한 값)\n",
        "t1=(1,2,3,4)\n",
        "print(type(t1))"
      ],
      "metadata": {
        "colab": {
          "base_uri": "https://localhost:8080/"
        },
        "id": "pPW7I68P3S7F",
        "outputId": "a0afe79e-7921-4de7-ec92-ac3cf8ecbcb0"
      },
      "execution_count": null,
      "outputs": [
        {
          "output_type": "stream",
          "name": "stdout",
          "text": [
            "<class 'tuple'>\n"
          ]
        }
      ]
    },
    {
      "cell_type": "code",
      "source": [
        "# 2) 색인(indexing)\n",
        "l1\n",
        "l1[0]\n",
        "l1[1]\n",
        "l1[-1] # reverse indexing\n",
        "l1[-2]"
      ],
      "metadata": {
        "colab": {
          "base_uri": "https://localhost:8080/"
        },
        "id": "_YsF-O323mN6",
        "outputId": "94c30458-a345-4dce-dfc1-b582f54f855d"
      },
      "execution_count": null,
      "outputs": [
        {
          "output_type": "execute_result",
          "data": {
            "text/plain": [
              "3"
            ]
          },
          "metadata": {},
          "execution_count": 6
        }
      ]
    },
    {
      "cell_type": "code",
      "source": [
        "l1[0:1] # n:m --> n부터 m-1 까지\n",
        "l1[0:2]"
      ],
      "metadata": {
        "colab": {
          "base_uri": "https://localhost:8080/"
        },
        "id": "PbktW3uE3u9A",
        "outputId": "49f26de2-a3a1-4fbc-bf1a-7650aa57efae"
      },
      "execution_count": null,
      "outputs": [
        {
          "output_type": "execute_result",
          "data": {
            "text/plain": [
              "[1, 2]"
            ]
          },
          "metadata": {},
          "execution_count": 9
        }
      ]
    },
    {
      "cell_type": "code",
      "source": [
        "#여러 숫자 전달 불가\n",
        "l2[0,2]```에러뜸```"
      ],
      "metadata": {
        "id": "l5TrzD8c3xIN"
      },
      "execution_count": null,
      "outputs": []
    },
    {
      "cell_type": "code",
      "source": [
        "#3) 수정\n",
        "l1[0] = 10\n",
        "l1\n",
        "\n",
        "#4) 연산\n",
        "\n",
        "l1+1 #리스트와 정수(int) 연산 불가\n",
        "l1 > 1 #조건 전달 불가\n",
        "# TypeError: can only concatenate list (not \"int\") to list\n",
        "#TypeError: '>' not supported between instances of 'list' and 'int'\n",
        "\n",
        "#리스트 확장\n",
        "[1,2,3,] + [10,20,30]\n",
        "#[1, 2, 3, 10, 20, 30]\n",
        "\n",
        "#원소 추가\n",
        "l1 + [5]\n",
        "\n",
        "l1.append(6)\n",
        "l1\n",
        "#[10, 2, 3, 4]\n",
        "\n",
        "#문자열더하고 곱하기\n",
        "'a'+'b'\n",
        "'a'*3\n",
        "\n",
        "#튜플(상수) 수정 \n",
        "t1\n",
        "t1[0] = 10 #뷸가능\n",
        "\n",
        "#5) 삭제\n",
        "del(l1[0]) # 첫번쩨 원소 삭제\n",
        "l1\n",
        "del(l1) # 객체 삭제\n",
        "\n",
        "#리스내 모든 원소 삭제\n",
        "l2 = []\n",
        "l2\n",
        "#함수와 메서드\n",
        "# 메서드: 함수의 일부\n",
        "# 인수 전달 방식이 다름\n",
        "\n",
        "sum([1,2,3]) #함수:인수 전달이 모두 관호 안에서 진행\n",
        "\n",
        "import numpy as np\n",
        "a1 = np.array([1,2,3])\n",
        "a1.sum()\n",
        "#메서드\n",
        "#- 객체에서 호출 가능한 형대의 함수(값을 객체가 가지고 있다)"
      ],
      "metadata": {
        "id": "5Jyno9Z74ATO"
      },
      "execution_count": null,
      "outputs": []
    },
    {
      "cell_type": "markdown",
      "source": [
        "# 사용자 정의 함수"
      ],
      "metadata": {
        "id": "ZU5Oj2rb5Dry"
      }
    },
    {
      "cell_type": "markdown",
      "source": [
        "사용자 정의 함수의 형태\n",
        "\n",
        "input과 output 관계를 내부에 정의\n",
        "\n",
        "def, lambda(축약형)"
      ],
      "metadata": {
        "id": "kwKluouG5Od-"
      }
    },
    {
      "cell_type": "markdown",
      "source": [
        "## 1.def 방식\n",
        "\n"
      ],
      "metadata": {
        "id": "rgnW1y135WrE"
      }
    },
    {
      "cell_type": "code",
      "source": [
        "'''\n",
        "# def 함수이름(인수1,인수2, 인수3):\n",
        "#     함수 본뭄\n",
        "#     return 반환할 객체\n",
        "'''\n",
        "\n",
        "#숫자를 넣어서 곱하기 10한 값을 반환\n",
        "def f_mul(x):\n",
        "    v1=x*10\n",
        "    return v1\n",
        "f_mul(10)\n",
        "\n",
        "#두 숫자 넣어서 두 숫자의 곱 반환\n",
        "\n",
        "def f_2mul(x,y):\n",
        "    return(x*y)\n",
        "\n",
        "print(f_2mul(2,10))\n",
        "\n",
        "#인수에 default 값(기본값 선언)\n",
        "def f_d(x=1,y):\n",
        "    return(x*y)\n",
        "# SyntaxError: non-default argument follows default argument\n",
        "#1번째 인수에 기본값을 정의 하면 뒤에 나오는 인수도 기본값 정의해야 함\n",
        "\n",
        "def f_d(y,x=1):\n",
        "    return(x*y)\n",
        "def f_d(x=1,y=1):\n",
        "    return(x*y)\n",
        "print(f_d())"
      ],
      "metadata": {
        "id": "oh20HTZO4KcH"
      },
      "execution_count": null,
      "outputs": []
    },
    {
      "cell_type": "markdown",
      "source": [
        "## 2.lambda 축약형(1회용)\n",
        "\n"
      ],
      "metadata": {
        "id": "k_6jfHxJ391U"
      }
    },
    {
      "cell_type": "markdown",
      "source": [
        "비교적 단순한 연산 및 리턴시 사용\n",
        "\n"
      ],
      "metadata": {
        "id": "HNcgiWHj3_3s"
      }
    },
    {
      "cell_type": "code",
      "source": [
        "'''\n",
        "lambda 변수: 적용함수\n",
        "'''\n",
        "\n",
        "#숫자를 넣을것 여기에 10을 곱한 값을 리턴하세요\n",
        "f1 = lambda x: x*10\n",
        "f1(6)\n",
        "\n",
        "#3개 숫자를 전달받아 첫번째와 두번째 합에 3번 수의 곱 리턴\n",
        "f2 = lambda x,y,z: (x+y)*z\n",
        "f2(2,5,3) \n"
      ],
      "metadata": {
        "id": "HKG85ONR51Ku"
      },
      "execution_count": null,
      "outputs": []
    },
    {
      "cell_type": "markdown",
      "source": [
        "## 3.map 함수"
      ],
      "metadata": {
        "id": "DuR2lX_B5_Nz"
      }
    },
    {
      "cell_type": "code",
      "source": [
        "'''\n",
        "map(func,    #적용할 함수\n",
        "    iterable)#추가할 인수\n",
        "'''\n",
        "\n",
        "f1 = lambda x: x*10\n",
        "f1(4)\n",
        "map(f1, l1)\n",
        "# <map at 0x2d6a348a550>\n",
        "list(map(f1,l1))\n",
        "#[10, 20, 50, 100]"
      ],
      "metadata": {
        "id": "f72x4OXZ6G9q"
      },
      "execution_count": null,
      "outputs": []
    },
    {
      "cell_type": "markdown",
      "source": [
        "##예제"
      ],
      "metadata": {
        "id": "1OBfKc7W6pmN"
      }
    },
    {
      "cell_type": "markdown",
      "source": [
        "하나의 숫자를 전달 받아 10보다크면 3을 곱하고 이하면 2를 곱한 결과\n"
      ],
      "metadata": {
        "id": "HyaAed1_6tU4"
      }
    },
    {
      "cell_type": "code",
      "source": [
        "l2=[3,5,7,10]"
      ],
      "metadata": {
        "id": "J7-zMTab6uDN"
      },
      "execution_count": null,
      "outputs": []
    },
    {
      "cell_type": "markdown",
      "source": [
        "### 답"
      ],
      "metadata": {
        "id": "IyNQFSKn6yNP"
      }
    },
    {
      "cell_type": "code",
      "source": [
        "def f(x):\n",
        "  if x>10:\n",
        "    y=x*3\n",
        "  else:\n",
        "    y=x*2\n",
        "    return y\n",
        "\n",
        "list(map(f, l2))"
      ],
      "metadata": {
        "colab": {
          "base_uri": "https://localhost:8080/"
        },
        "id": "kYsrZFXl6zW5",
        "outputId": "2a268efe-95fb-4cdd-b46e-86ab3b5f34be"
      },
      "execution_count": null,
      "outputs": [
        {
          "output_type": "execute_result",
          "data": {
            "text/plain": [
              "[6, 10, 14, 20]"
            ]
          },
          "metadata": {},
          "execution_count": 19
        }
      ]
    },
    {
      "cell_type": "markdown",
      "source": [
        "# 메소드, 조건문, 반복문"
      ],
      "metadata": {
        "id": "WL8ZIo9z-RkI"
      }
    },
    {
      "cell_type": "markdown",
      "source": [
        "## 함수 vs 메서드\n"
      ],
      "metadata": {
        "id": "Pe4vu7h5-hrw"
      }
    },
    {
      "cell_type": "markdown",
      "source": [
        "**함수**: 함수(대상)\n",
        "\n",
        "**메서드**: 대상.메소드"
      ],
      "metadata": {
        "id": "NKNUJglG-kG9"
      }
    },
    {
      "cell_type": "markdown",
      "source": [
        "## 메서드"
      ],
      "metadata": {
        "id": "DUELpz4c-lvi"
      }
    },
    {
      "cell_type": "code",
      "source": [
        "# 대소치환\n",
        "v1 = 'abcd' # 문자(string)\n",
        "v1.upper()   #대문자 치환\n",
        "'ABCD'.lower() #소문자 치환\n",
        "'adc def'.title() #camel 표기법(단어의 첫 글자만 대문자로)\n",
        "\n",
        "#색인(문자열 추출)\n",
        "'abcd'[0]\n",
        "'abcd'[-1]\n",
        "'abcd'[0:3]\n",
        "\n",
        "#ex) '031)305-0834 에서 지역번호만 추출\n",
        "vtel = '031)305-0834'\n",
        "vtel[0:3]\n",
        "\n",
        "#문자열의 시각, 끝 여부 확인\n",
        "# v1.startswith(prefix,  #시작 값 확인 문자\n",
        "#               start,   #확인할 시작 위치\n",
        "#               end)     #확인할 끝 위치\n",
        "v1\n",
        "v1.startswith('b')\n",
        "v1.startswith('b',1)\n",
        "v1[1:].startswith('b')\n",
        "\n",
        "v1\n",
        "v1.endswith('d')\n",
        "v1.endswith('D')\n",
        "\n",
        "#앞 뒤 공백 또는 문자 제거\n",
        "'abc' == 'abc'\n",
        "' abc '.strip()    #양쪽 공백 제거\n",
        "'abc'.strip('a')   #문자 제거\n",
        "'abaca'.strip('a') #양쪽 문자 제거(중간 글자 삭제 불가)\n",
        "' abcd'.lstrip()   #왼쪽 공백 또는 글자 제거\n",
        "' abcd '.rstrip()  #오른쪽 공백 또는 글자 제거\n",
        "\n",
        "#치환\n",
        "# 'abcabc'.replace(old, #찾을 문자열\n",
        "#                  new) #바꿀 문자열\n",
        "'abcabc'.replace('a','A')\n",
        "'abcabc'.replace('ab','AB')\n",
        "'abcabc'.replace('ab','')\n",
        "\n",
        "#문자열 분리\n",
        "# v1.split(sep) #분리 구분기호\n",
        "'a/b/c/d'.split('/')\n",
        "'a/b/c/d'.split('/')[1]\n",
        "'a/b/c/d'.split('/')[0:2]\n",
        "\n",
        "# 위치값 리턴\n",
        "# 'abcd'.find(sub,  #위치값을 찾을 대상\n",
        "#             start #찾을 위치(시작점)\n",
        "#             end)  #찾을 위치()\n",
        "v1\n",
        "v1.find('b')\n",
        "\n",
        "vtel\n",
        "vnum = vtel.find(')')\n",
        "vtel[0:vnum]\n",
        "\n",
        "#포함 횟수\n",
        "'abcabcabc'.count('a')\n",
        "\n",
        "#형(타입) 확인\n",
        "type(v1) #테이터 타입 확인\n",
        "v1.isalpha() #문자확인\n",
        "v1.isnumeric() #숫자 확인\n",
        "\n",
        "#대소문자 확인\n",
        "v1.isupper()\n",
        "v1.islower()\n",
        "\n",
        "#문자열 결합\n",
        "'a' + 'b'\n",
        "\n",
        "#문자열 길이\n",
        "len(v1)\n",
        "3/len(v1)"
      ],
      "metadata": {
        "id": "ezSB0l4c-Q2Z"
      },
      "execution_count": null,
      "outputs": []
    },
    {
      "cell_type": "markdown",
      "source": [
        "### 예제"
      ],
      "metadata": {
        "id": "F2TNrWLW-68v"
      }
    },
    {
      "cell_type": "code",
      "source": [
        "vname='hwang'\n",
        "vemail='hwanginkyu42@naver.com'\n",
        "jumin= '950524-1999999'\n",
        "\n",
        "#1.이름의 두번째 글자가 m인지 여부\n",
        "vname[1] == 'm'\n",
        "\n",
        "#2. vmail에서 이메일 아이디만 추출\n",
        "vemail[0:9]\n",
        "idx = vemail.find('@')\n",
        "vemail[:idx]\n",
        "\n",
        "# 3. 주민번호에서  여자인지 확인(2:여자)\n",
        "jumin[7] =='2'\n",
        "\n",
        "jumin\n",
        "jumin.split('-')[1][0] ==2 #-기준으로 2번째에서 1번째"
      ],
      "metadata": {
        "colab": {
          "base_uri": "https://localhost:8080/"
        },
        "id": "L8iumeQp-3Dy",
        "outputId": "db61b8b6-c7fe-4947-e4d6-5491c04da4c2"
      },
      "execution_count": null,
      "outputs": [
        {
          "output_type": "execute_result",
          "data": {
            "text/plain": [
              "False"
            ]
          },
          "metadata": {},
          "execution_count": 20
        }
      ]
    },
    {
      "cell_type": "markdown",
      "source": [
        "## 조건문 반복문"
      ],
      "metadata": {
        "id": "0sgNfHe4_OFV"
      }
    },
    {
      "cell_type": "code",
      "source": [
        "#논리연산자\n",
        "# and\n",
        "# or\n",
        "# not\n",
        "\n",
        "v1=1 \n",
        "(v1>=3) and (v1<=7) #3과 7사이\n",
        "(v1>=3) & (v1<=7) #3과 7사이\n",
        "\n",
        "(v1<=3) or (v1<=7)\n",
        "\n",
        "not(v1==1)\n",
        "\n",
        "#조건문 if\n",
        "\n",
        "#형식\n",
        "# if 조건:\n",
        "#     참일때 실행\n",
        "# else:\n",
        "#     거짓일 때 실행 문장\n",
        "# if 조건1:\n",
        "#    조건1이 참일때 실행\n",
        "#elif 조건2\n",
        "#조건1이 거진이면서 조건2가 참일때 실행 문장\n",
        "# else:\n",
        "#     조건 1,2가 모두 거짓일 때 실행 문장\n",
        "\n",
        "v1=10\n",
        "if v1>5:\n",
        "    print('A')\n",
        "else:\n",
        "    print('B')\n",
        "\n",
        "#리스트는 불가\n",
        "l1 = [1,3,5,7,8]\n",
        "if l1>5:\n",
        "    print('A')\n",
        "else:\n",
        "      print('B') \n",
        "\n",
        "#반복문\n",
        "#객체의 각 원소에 동일한 연산처리 진행할 경우 사용\n",
        "#1. for문 : 정해진 횟수, 대상이 있을 경우\n",
        "\n",
        "# for 반복변수 in 반복할 대상(범위):\n",
        "#     반복 실행할 문장\n",
        "\n",
        "#1~10 까지 출력하세요.\n",
        "#range(1,11)\n",
        "for i in range(1,11):\n",
        "    print(i)\n",
        "#예제\n",
        "#다음의 리스트 선언하고 5보다 클경우  A  작거나 같으면B\n",
        "l1 = [1,3,5,15,25]\n",
        "\n",
        "for i in l1:\n",
        "    if i > 5:\n",
        "        print('A')\n",
        "    else:\n",
        "        print('B')\n",
        "#위 리스트에서 각 원소에 10을 더해서 출력\n",
        "l1+10 #불가\n",
        "for i in l1:\n",
        "    print(i+10)\n",
        "#for 문의 결과를 바로 변수로 저장하는 건 불가\n",
        "l1 = for i in l1:\n",
        "    print(i+10)\n",
        "\n",
        "#정답\n",
        "l2 = []\n",
        "for i in l1:\n",
        "    l2.append(i+10)\n",
        "\n",
        "print(l2)\n",
        "# [11, 13, 15, 25, 35]\n",
        "\n",
        "l3 = [1,2,3]\n",
        "l3.append(4)\n",
        "l3\n",
        "\n",
        "\n",
        "#while 문: 조건에 따른 반복울 실행하는 경우\n",
        "\n",
        "while 조건:\n",
        "    조건이 참일 때 반복 문장\n",
        "    \n",
        "#예제\n",
        "#while 문으로 1~10까지 출력\n",
        "\n",
        "i = 1\n",
        "while i <=10:\n",
        "    print(i)\n",
        "    i= i+1\n",
        "    \n",
        "#문제\n",
        "#1~100까지 총 합\n",
        "\n",
        "vsum = 0\n",
        "for i in range(1,101):\n",
        "    vsum=vsum+i\n",
        "    \n",
        "print(vsum)\n",
        "\n",
        "i vsum 일반화\n",
        "1  1    vsum+1\n",
        "2  1+2  vsum+2\n",
        "\n",
        "vvv= sum(i for i in range(1,101))\n",
        "print(vvv)\n",
        "\n",
        "#1~100까지 짝수 총합\n",
        "# if i%2 ==0: 만약 i를 2로 나누어 나온 나머지가 0이면=>짝수\n",
        "# if i%2 ==1: 만약 i를 2로 나누어 나온 나머지가 1이면=>홀수\n",
        "vsum=0\n",
        "for i in range(1,101):\n",
        "    if i%2 ==0:\n",
        "        vsum= vsum+i\n",
        "print(vsum)\n",
        "        \n",
        "#반복제어문\n",
        "#1.continue: 특정 조건일 경우 반복문 스킵\n",
        "#2.break: 특정 조건일 경우 반복문 종료(정지조건) \n",
        "#3.exit: 특정 조건일 경우 프로그램 종료\n",
        "#4.pass: 문법적으로 오류가 발생시키지 않기 위해 자리를 채우는 역활\n",
        " \n",
        "#예제\n",
        "#1~10출력, 5제외\n",
        "\n",
        "for i in range(1,11):\n",
        "    if i == 5:\n",
        "        continue\n",
        "    print(i)\n",
        " # 1\n",
        " # 2\n",
        " # 3\n",
        " # 4\n",
        " # 6\n",
        " # 7\n",
        " # 8\n",
        " # 9\n",
        " # 10   \n",
        "for i in range(1,11):\n",
        "    if i ==5:\n",
        "        break\n",
        "    print(i)\n",
        "# for i in range(1,11):\n",
        "#     if i ==5:\n",
        "#         exit(0)\n",
        "#     print(i)   \n",
        "\n",
        "v1 = 1\n",
        "if v1>10:\n",
        "    pass\n",
        "else:\n",
        "    print('b')\n",
        "v1 = 1\n",
        "if v1>10:\n",
        "    #pass\n",
        "else:\n",
        "    print('b')\n",
        "#IndentationError: expected an indented block\n",
        "\n",
        "#문제\n",
        "#1~100까지 누적합이 최소 2000이상이 되는 시점의 k 값과 총 합을 출력하시오\n",
        "\n",
        "vsum = 0\n",
        "for i in range(1,101):\n",
        "    vsum = vsum + i\n",
        "    if vsum >= 2000:\n",
        "        break\n",
        "print(i, vsum)"
      ],
      "metadata": {
        "id": "cHV-L7tT_MGm"
      },
      "execution_count": null,
      "outputs": []
    }
  ]
}