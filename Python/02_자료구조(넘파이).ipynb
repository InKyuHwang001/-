{
  "nbformat": 4,
  "nbformat_minor": 0,
  "metadata": {
    "colab": {
      "name": "02.자료구조(넘파이).ipynb",
      "provenance": [],
      "collapsed_sections": [
        "PASf55iW7w2h",
        "RVNRBgIG88pa"
      ]
    },
    "kernelspec": {
      "name": "python3",
      "display_name": "Python 3"
    },
    "language_info": {
      "name": "python"
    },
    "accelerator": "GPU",
    "gpuClass": "standard"
  },
  "cells": [
    {
      "cell_type": "markdown",
      "source": [
        "# 자료규조"
      ],
      "metadata": {
        "id": "_be6I4t47zHX"
      }
    },
    {
      "cell_type": "markdown",
      "source": [
        "1. 리스트 (기본구조) [1,2]\n",
        "\n",
        "2. 튜플(상수, 불변) (1,2)\n",
        "\n",
        "3. 딕셔너러(key: value) <<- json{1:'양진욱', 2:'백혜림', 3:'박윤수'}\n",
        "\n",
        "4. 세트(set): 집합 set()\n",
        "\n",
        "5. 배열(numpy)\n",
        "\n",
        "6. 판다스 구조(series, DataFrame)\n",
        "\n"
      ],
      "metadata": {
        "id": "WCsa0bz87030"
      }
    },
    {
      "cell_type": "markdown",
      "source": [
        "## 넘파이"
      ],
      "metadata": {
        "id": "PASf55iW7w2h"
      }
    },
    {
      "cell_type": "markdown",
      "source": [
        "- 배열(array) 생성, 연산\n",
        "\n",
        "- 배열(array): 하나의 데이터 타입 허용, 다차원 자료구조"
      ],
      "metadata": {
        "id": "HAwM6mdX8Bk-"
      }
    },
    {
      "cell_type": "markdown",
      "source": [
        "### 생성과 색인"
      ],
      "metadata": {
        "id": "RVNRBgIG88pa"
      }
    },
    {
      "cell_type": "code",
      "execution_count": 1,
      "metadata": {
        "colab": {
          "base_uri": "https://localhost:8080/"
        },
        "id": "mehJrVtS7qkU",
        "outputId": "b6ff9fe9-6873-4b72-9796-e5a35af617e8"
      },
      "outputs": [
        {
          "output_type": "execute_result",
          "data": {
            "text/plain": [
              "numpy.ndarray"
            ]
          },
          "metadata": {},
          "execution_count": 1
        }
      ],
      "source": [
        "#1. 넘파이 생성\n",
        "import numpy as np\n",
        "np.array([1,2,3])\n",
        "# array([1, 2, 3]) 1차원 배열\n",
        "\n",
        "np.array([[1,2,3],[4,5,6],[7,8,9]])\n",
        "# array([[1, 2, 3],\n",
        "#        [4, 5, 6],\n",
        "#        [7, 8, 9]])\n",
        "# 2차원 배열(수리적 모형:행열)\n",
        "np.array([[[1,2,3],[4,5,6]],[[7,8,9],[10,11,12]]])\n",
        "# array([[[ 1,  2,  3],\n",
        "#         [ 4,  5,  6]],\n",
        "\n",
        "#        [[ 7,  8,  9],\n",
        "#         [10, 11, 12]]])\n",
        "#3차원 배열\n",
        "\n",
        "np.arange(1,26) #1차원\n",
        "# array([ 1,  2,  3,  4,  5,  6,  7,  8,  9, 10, 11, 12, 13, 14, 15, 16, 17,\n",
        "#       18, 19, 20, 21, 22, 23, 24, 25]) 인자가 25개\n",
        "np.arange(1,26).reshape(5,5) #2차원\n",
        "# array([[ 1,  2,  3,  4,  5],\n",
        "#        [ 6,  7,  8,  9, 10],\n",
        "#        [11, 12, 13, 14, 15],\n",
        "#        [16, 17, 18, 19, 20],\n",
        "#        [21, 22, 23, 24, 25]])\n",
        "np.arange(1,26).reshape(5,-1) #2차원\n",
        "# array([[ 1,  2,  3,  4,  5],\n",
        "#        [ 6,  7,  8,  9, 10],\n",
        "#        [11, 12, 13, 14, 15],\n",
        "#        [16, 17, 18, 19, 20],\n",
        "#        [21, 22, 23, 24, 25]])\n",
        "a1=np.arange(1,26)\n",
        "type(a1)"
      ]
    },
    {
      "cell_type": "code",
      "source": [
        "#2. 색인 \n",
        "a2= np.array([[1,2,3],[4,5,6,],[7,8,9]])\n",
        "a2[1,:]\n",
        "# array([4, 5, 6])\n",
        "\n",
        "# 정수 색인(두번째 열 선택: 차원 축소 발생)\n",
        "a2[:,1]\n",
        "# array([2, 5, 8])\n",
        "\n",
        "#슬라이스 색인 (두번째 열 선택: 차원 축소 발생안함)\n",
        "a2[:,1:2]\n",
        "# array([[2],\n",
        "#        [5],\n",
        "#        [8]])\n",
        "\n",
        "#a2에서 1,3행 선택\n",
        "a2[0:3:2,:]   #0부터 시작 3전까지 2칸 단위로\n",
        "# array([[1, 2, 3],\n",
        "#        [7, 8, 9]])\n",
        "a2[[0,2],:]\n",
        "# array([[1, 2, 3],\n",
        "#        [7, 8, 9]])\n",
        "\n",
        "#a2에서 1,3열 선택\n",
        "a2[:,[0,2]]\n",
        "# array([[1, 3],\n",
        "#        [4, 6],\n",
        "#        [7, 9]])\n",
        "\n",
        "a2\n",
        "a2[1,1] #5\n",
        "\n",
        "a2[[1,2],[1,2]] #array([5, 9])\n",
        "#>>>a2[1,1],a2[2,2] 포인트 인덱싱\n",
        "#2개의 포인트(점)출력\n",
        "#색인함수(ix_()) 사용하여 해결\n",
        "\n",
        "a2[np.ix_([1,2],[1,2])]\n",
        "# array([[5, 6],\n",
        "       # [8, 9]])\n",
        "a2[[0,2],[0,2]] #array([1, 9])\n",
        "\n",
        "#np.ix_?\n",
        "\n",
        "#조건 색인\n",
        "a2\n",
        "a2 > 5\n",
        "# array([[False, False, False],\n",
        "#        [False, False,  True],\n",
        "#        [ True,  True,  True]])\n",
        "\n",
        "a2[a2>5]\n",
        "#array([6, 7, 8, 9]) true만 출력\n",
        "\n",
        "a2[:,0]>5 \n",
        "#첫번째 컬럼 가져와서 5이상 행만 선택\n",
        "\n",
        "a2[a2[:,0]>5]\n",
        "#array([[7, 8, 9]])\n",
        "#조건의 결과를 행방향에 색인 값으로 전달"
      ],
      "metadata": {
        "colab": {
          "base_uri": "https://localhost:8080/"
        },
        "id": "8PwmPAsz8YaW",
        "outputId": "68ff9a19-041b-4931-efc6-f55ff30fc9e2"
      },
      "execution_count": 2,
      "outputs": [
        {
          "output_type": "execute_result",
          "data": {
            "text/plain": [
              "array([[7, 8, 9]])"
            ]
          },
          "metadata": {},
          "execution_count": 2
        }
      ]
    },
    {
      "cell_type": "markdown",
      "source": [
        "### 함수 등의 적용"
      ],
      "metadata": {
        "id": "tYN7ZEQt85WJ"
      }
    },
    {
      "cell_type": "markdown",
      "source": [
        "메서드, 연산, 형(데이터 타입) 변환, np.where 함수, 산술 연산, 전치 메서드"
      ],
      "metadata": {
        "id": "7sgk4HwR9DoC"
      }
    },
    {
      "cell_type": "code",
      "source": [
        "# 3. 메서드\n",
        "dir(a2) #쓸수있는 것을 보여줌\n",
        "\n",
        "a2.dtype    # numpy 구성 데이터 타입\n",
        "a2.shape    # mumpy 모양(shape)\n",
        "# (3, 3)\n",
        "a2.shape[0] # mumpy행의수\n",
        "a2.shape[1] # mumpy열의 수\n",
        "\n",
        "a2.reshape(1,9) #array 모양 변경\n",
        "# array([[1, 2, 3, 4, 5, 6, 7, 8, 9]])\n",
        "a2.ndim   #array 차원"
      ],
      "metadata": {
        "id": "X5BhcibF81mA"
      },
      "execution_count": 3,
      "outputs": []
    },
    {
      "cell_type": "code",
      "source": [
        "# 4. 연산\n",
        "[1,2,3]+[4,5,6]  #list는 서로 원소끼리 연산불가 (확장으로 해석)\n",
        "# [1, 2, 3, 4, 5, 6]\n",
        "\n",
        "np.array([1,2,3])+np.array([4,5,6])\n",
        "# array([5, 7, 9])\n",
        "np.array([1,2,3])+np.array([4,5,6,7])\n",
        "#사이즈가 같아야됨"
      ],
      "metadata": {
        "id": "JI6iExSn9jQl"
      },
      "execution_count": null,
      "outputs": []
    },
    {
      "cell_type": "code",
      "source": [
        "# 5.형(데이터 타입) 변환 메드서\n",
        "\n",
        "a2.astype('float')\n",
        "# array([[1., 2., 3.],\n",
        "#        [4., 5., 6.],\n",
        "#        [7., 8., 9.]])\n",
        "a2.astype('int')\n",
        "a2.astype('str')\n",
        "# array([['1', '2', '3'],\n",
        "#        ['4', '5', '6'],\n",
        "#        ['7', '8', '9']], dtype='<U11')"
      ],
      "metadata": {
        "id": "76irLBNh9l93"
      },
      "execution_count": null,
      "outputs": []
    },
    {
      "cell_type": "code",
      "source": [
        "# 6. np.where 함수\n",
        "# if문의 축약\n",
        "#np.where(조건, 참인 값 변환, 거짓인 값 변환)\n",
        "# spl 문 기본형 select * fromm db where\n",
        "\n",
        "np.where(a2>5,'A','B')"
      ],
      "metadata": {
        "id": "E2BidAMW9oX3"
      },
      "execution_count": null,
      "outputs": []
    },
    {
      "cell_type": "code",
      "source": [
        "# 7.산술 연산 메서드\n",
        "a2\n",
        "a2.sum()\n",
        "a2.mean()\n",
        "a2.var()\n",
        "a2.std()\n",
        "a2.min()\n",
        "a2.max()\n",
        "\n",
        "(a2 > 5).sum() #a2에서 5보다 튼 값의 수\n",
        "(a2 > 5).any() #true a2에서 5보다 큰 값이 하나라도 있을 경우\n",
        "(a2 > 5).all() #true a2에서 모두 5보다 클 경우만 참\n",
        "\n",
        "a2\n",
        "# array([[1, 2, 3],\n",
        "#        [4, 5, 6],\n",
        "#        [7, 8, 9]])\n",
        "a2.sum(axis=0) #행끼리 더해줘/행 기준 행 별 총함(서로 다른 행끼리, 세로방향 연산)\n",
        " # array([12, 15, 18])\n",
        "a2.sum(axis=1) #열끼리 더해줘\n",
        "# array([ 6, 15, 24])\n",
        "\n",
        "#[축 번호]\n",
        "#2차원: 행(0),열(1)\n",
        "#3차원: 층(0),행(1), 열(2)"
      ],
      "metadata": {
        "id": "L_FVBEL89sDR"
      },
      "execution_count": null,
      "outputs": []
    },
    {
      "cell_type": "code",
      "source": [
        "#8.전치 메서드\n",
        "#1)T:행과 열을 전치\n",
        "np.arange(1,9)\n",
        "# array([1, 2, 3, 4, 5, 6, 7, 8])\n",
        "a1=np.arange(1,9).reshape(4,2)\n",
        "a1\n",
        "# array([[1, 2],\n",
        "#        [3, 4],\n",
        "#        [5, 6],\n",
        "#        [7, 8]])\n",
        "a1.T\n",
        "# array([[1, 3, 5, 7],\n",
        "#        [2, 4, 6, 8]])\n",
        "\n",
        "#2) swapaxes: 2축을 전달받아 두축을 서로 전치, 전달 순서는 중요하지 않음\n",
        "a1.swapaxes(0,1)\n",
        "a1.swapaxes(1,0)\n",
        "# array([[1, 3, 5, 7],\n",
        "#        [2, 4, 6, 8]])\n",
        "\n",
        "#3) transpose\n",
        "#원본의 차원에 맞는 축번호를 인수에 차례대로 전달. 그리고 전치 전달되는 순서 중요\n",
        "a1.transpose(0,1) #원본그대로 \n",
        "# array([[1, 2],\n",
        "#        [3, 4],\n",
        "#        [5, 6],\n",
        "#        [7, 8]])\n",
        "a1.transpose(1,0) #행렬 전치 \n",
        "# array([[1, 3, 5, 7],\n",
        "#        [2, 4, 6, 8]])"
      ],
      "metadata": {
        "id": "elcXSBpq9T7_"
      },
      "execution_count": null,
      "outputs": []
    },
    {
      "cell_type": "markdown",
      "source": [
        "### 넘파이 외부파일 입출력"
      ],
      "metadata": {
        "id": "IAsNbDfn94bo"
      }
    },
    {
      "cell_type": "code",
      "source": [
        "# 9. 외부 파일 입출력\n",
        "# 1)파일 불러오기\n",
        "# np.loadtxt(파일명,\n",
        "#            데이터타입,\n",
        "#            필드 구분 기호,\n",
        "#            skip 할 행의 수,\n",
        "#            선택할 컬럼의 값(위치),\n",
        "#            인코딩 옵션)\n",
        "import numpy as np\n",
        "np.loadtxt('C:/Users/nadai/code/data_bigdata_cert/file1.txt', delimiter=',', dtype='str')\n",
        "np.loadtxt('./code/data_bigdata_cert/file1.txt', delimiter=',', dtype='str')\n",
        "\n",
        "# 2)파일 내려쓰기\n",
        "# np.savetxt(fname,       파일명\n",
        "#            x,           객체명\n",
        "#            delimiter,  구분자\n",
        "#            fmt,        출력형식(format)\n",
        "#            header,     해더 출력 여부(파일 첫 문자열)\n",
        "#            encoding)    인코딩 옵션\n",
        "\n",
        "x=np.arange(0.0,5.0,1.0)\n",
        "np.savetxt('file2.txt', x, delimiter=',', fmt='%s')\n",
        "#'%s': 문자 타입\n",
        "\n",
        "# #[참고]: fmt 전달/변경 방식\n",
        "# %s: 문자열\n",
        "# %f: 실수(float)\n",
        "# %d: 정수\n",
        "'%s' %123   #'123'\n",
        "'%f' %123   #'123.000000'\n",
        "'%.4f' %123 #'123.0000' 소수점 4째 자리까지\n",
        "'%d' %123   #'123'\n",
        "'%7d' %123  #'    123'"
      ],
      "metadata": {
        "id": "WYNXOJAl97DK"
      },
      "execution_count": null,
      "outputs": []
    }
  ]
}