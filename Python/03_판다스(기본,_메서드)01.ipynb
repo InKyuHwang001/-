{
  "nbformat": 4,
  "nbformat_minor": 0,
  "metadata": {
    "colab": {
      "name": "03.판다스(기본, 메서드)01.ipynb",
      "provenance": [],
      "collapsed_sections": [
        "drLjdo26q5M1",
        "knotLnPQqHgK",
        "0KZfeIVRq7-z",
        "Z4ZzQbT5sYeg"
      ]
    },
    "kernelspec": {
      "name": "python3",
      "display_name": "Python 3"
    },
    "language_info": {
      "name": "python"
    },
    "accelerator": "GPU",
    "gpuClass": "standard"
  },
  "cells": [
    {
      "cell_type": "markdown",
      "source": [
        "# 판다스: 2차원 정형데이터(테이블, 표, 테이터 프레임)"
      ],
      "metadata": {
        "id": "LDtP2MvupD71"
      }
    },
    {
      "cell_type": "markdown",
      "source": [
        "- 기본단위: Series\n",
        "- 1차원 자료 구조\n",
        "- 하나의 데이터 타입 허용"
      ],
      "metadata": {
        "id": "yFLq57yUpZf5"
      }
    },
    {
      "cell_type": "markdown",
      "source": [
        "## 기본"
      ],
      "metadata": {
        "id": "drLjdo26q5M1"
      }
    },
    {
      "cell_type": "code",
      "source": [
        "import pandas as pd\n",
        "import numpy as np\n",
        "from pandas import Series, DataFrame"
      ],
      "metadata": {
        "id": "w5uPQQwXpJ4i"
      },
      "execution_count": 1,
      "outputs": []
    },
    {
      "cell_type": "code",
      "source": [
        "Series([1,2,3,4])\n",
        "\n",
        "s1=Series([1,2,3,4])\n",
        "s2=Series([1,2,3,'4'])\n",
        "s3=Series([1,2,3,4], index=['a','b','c','d'])\n",
        "# s3=Series([1,2,3,4],['a','b','c','d'])\n",
        "Series(s3,index=['A','B','C','D']) #이미 인덱스가 존재하는 경우"
      ],
      "metadata": {
        "colab": {
          "base_uri": "https://localhost:8080/"
        },
        "id": "zvF1ofSZpTw1",
        "outputId": "6a4908e4-2731-4442-835f-c1911e6992a9"
      },
      "execution_count": 3,
      "outputs": [
        {
          "output_type": "execute_result",
          "data": {
            "text/plain": [
              "A   NaN\n",
              "B   NaN\n",
              "C   NaN\n",
              "D   NaN\n",
              "dtype: float64"
            ]
          },
          "metadata": {},
          "execution_count": 3
        }
      ]
    },
    {
      "cell_type": "code",
      "source": [
        "#색인(indexing)\n",
        "\n",
        "s1[0]        #1(차원 축소 일어남>> scalar 값)\n",
        "s1[0:1]      #차원 축소 x (Series로 변환)\n",
        "# 0    1\n",
        "# dtype: int64\n",
        "\n",
        "s1[[0,3]]    #차원 축소 x (Series로 변환)\n",
        "# 0    1\n",
        "# 3    4\n",
        "# dtype: int64\n",
        "\n",
        "s3['a']\n",
        "s3[['a','c']]\n",
        "# a    1\n",
        "# c    3\n",
        "# dtype: int64\n",
        "\n",
        "s3['a':'c']   #문자의 연속 추출은 마지막 범위 포함\n",
        "# a    1\n",
        "# b    2\n",
        "# c    3\n",
        "# dtype: int64\n",
        "\n",
        "s1>2\n",
        "# 0    False\n",
        "# 1    False\n",
        "# 2     True\n",
        "# 3     True\n",
        "# dtype: bool\n",
        "s1[s1>2]\n",
        "# 2    3\n",
        "# 3    4\n",
        "# dtype: int64\n",
        "\n",
        "s3.b   #2>> key indexing"
      ],
      "metadata": {
        "colab": {
          "base_uri": "https://localhost:8080/"
        },
        "id": "3GJTzyooplnC",
        "outputId": "10b66b16-6340-48de-cfb3-0aa3dfc2c598"
      },
      "execution_count": 4,
      "outputs": [
        {
          "output_type": "execute_result",
          "data": {
            "text/plain": [
              "2"
            ]
          },
          "metadata": {},
          "execution_count": 4
        }
      ]
    },
    {
      "cell_type": "code",
      "source": [
        "#연산\n",
        "s1+1\n",
        "\n",
        "s4=Series([10,20,30,40])\n",
        "s5=Series([10,20,30,40],index=['c','d','e','f'])\n",
        "\n",
        "s1+s4 #key 가 같은 값끼리 연산 가능\n",
        "s3+s5 #Key 가 없는 경우 모두 NAN변환\n",
        "# a     NaN     #NA: 값이 없는거\n",
        "# b     NaN     #NaN: 값을 결정하는 과정에 뭔가가 없는것\n",
        "# c    13.0\n",
        "# d    24.0\n",
        "# e     NaN\n",
        "# f     NaN\n",
        "s3.add(s5,fill_value=0)\n",
        "# 양쪽 모두 존재하지 않는 key 일 경우\n",
        "# NAN 반환되는 거 방지하기 위해 fill_value 사용 적극 추천\n",
        "s3.sub(s5,fill_value=0) #-연산\n",
        "s3.mul(s5,fill_value=1) #*연산\n",
        "s3.div(s5,fill_value=1) #/연"
      ],
      "metadata": {
        "colab": {
          "base_uri": "https://localhost:8080/"
        },
        "id": "2xO914EUp0DS",
        "outputId": "0240bed5-b967-4276-de0d-859a65dd3e81"
      },
      "execution_count": 5,
      "outputs": [
        {
          "output_type": "execute_result",
          "data": {
            "text/plain": [
              "a    1.000000\n",
              "b    2.000000\n",
              "c    0.300000\n",
              "d    0.200000\n",
              "e    0.033333\n",
              "f    0.025000\n",
              "dtype: float64"
            ]
          },
          "metadata": {},
          "execution_count": 5
        }
      ]
    },
    {
      "cell_type": "code",
      "source": [
        "#기본 메서드\n",
        "s1.dtype #데이터 타입 출력\n",
        "s1.index #인덱스 출력\n",
        "s3.values # 값(value) 출력\n",
        "\n",
        "s3[['c','d','a','b']] #색인 사용 배치 순서 변경\n",
        "s3.reindex(['c','d','b','a']) #메소드로 배치 순서 변경\n",
        "\n",
        "s3.index=['A','B','C','D'] #인덱스 수정\n",
        "s3\n",
        "\n",
        "s3[0]=10#값 수정\n",
        "s3"
      ],
      "metadata": {
        "colab": {
          "base_uri": "https://localhost:8080/"
        },
        "id": "yLZ2IQo4qDdW",
        "outputId": "fa2b65d3-7a42-4186-9368-2969eb0dfe7e"
      },
      "execution_count": 6,
      "outputs": [
        {
          "output_type": "execute_result",
          "data": {
            "text/plain": [
              "A    10\n",
              "B     2\n",
              "C     3\n",
              "D     4\n",
              "dtype: int64"
            ]
          },
          "metadata": {},
          "execution_count": 6
        }
      ]
    },
    {
      "cell_type": "markdown",
      "source": [
        "## DataFrame\n"
      ],
      "metadata": {
        "id": "knotLnPQqHgK"
      }
    },
    {
      "cell_type": "markdown",
      "source": [
        "- 차원 자료구조(행열 구조)\n",
        "\n"
      ],
      "metadata": {
        "id": "7wXiFmO5qKn3"
      }
    },
    {
      "cell_type": "code",
      "source": [
        "#생성\n",
        "d1={'name':['smith','hwang'],'sal':[900,1800]}\n",
        "d1\n",
        "\n",
        "d2=DataFrame(d1)\n",
        "d2\n",
        "#     name   sal\n",
        "# 0  smith   900\n",
        "# 1  hwang  1800\n",
        "\n",
        "d3= DataFrame(np.arange(1,7).reshape(2,3), index=['a','b'], columns=['col1','col2','cal3'])\n",
        "d3\n",
        "#    col1  col2  cal3\n",
        "# a     1     2     3\n",
        "# b     4     5     6\n",
        "np.arange(1,7).reshape(2,3)"
      ],
      "metadata": {
        "colab": {
          "base_uri": "https://localhost:8080/"
        },
        "id": "PgVzSfR_qFO-",
        "outputId": "645bb951-4ca3-4052-f5fb-8577cebf913c"
      },
      "execution_count": 7,
      "outputs": [
        {
          "output_type": "execute_result",
          "data": {
            "text/plain": [
              "array([[1, 2, 3],\n",
              "       [4, 5, 6]])"
            ]
          },
          "metadata": {},
          "execution_count": 7
        }
      ]
    },
    {
      "cell_type": "code",
      "source": [
        "# 색인(indexing)\n",
        "\n",
        "d3.col1\n",
        "d3['col1']\n",
        "# a    1\n",
        "# b    4\n",
        "# Name: col1, dtype: int32\n",
        "\n",
        "# iloc,loc\n",
        "\n",
        "# iloc: positional indexing\n",
        "# loc: label indexing\n",
        "d3\n",
        "d3.iloc[:,0]\n",
        "d3.iloc[:,0:3]\n",
        "d3.iloc[:,[0,-1]]\n",
        "\n",
        "d3.loc[:,['col1','cal3']]"
      ],
      "metadata": {
        "colab": {
          "base_uri": "https://localhost:8080/",
          "height": 112
        },
        "id": "2126LMKHqU1S",
        "outputId": "0faaf90d-2948-4392-cf12-567efec2e3d9"
      },
      "execution_count": 8,
      "outputs": [
        {
          "output_type": "execute_result",
          "data": {
            "text/plain": [
              "   col1  cal3\n",
              "a     1     3\n",
              "b     4     6"
            ],
            "text/html": [
              "\n",
              "  <div id=\"df-b39970c2-b587-446b-8cc2-d5b0dae2ee2e\">\n",
              "    <div class=\"colab-df-container\">\n",
              "      <div>\n",
              "<style scoped>\n",
              "    .dataframe tbody tr th:only-of-type {\n",
              "        vertical-align: middle;\n",
              "    }\n",
              "\n",
              "    .dataframe tbody tr th {\n",
              "        vertical-align: top;\n",
              "    }\n",
              "\n",
              "    .dataframe thead th {\n",
              "        text-align: right;\n",
              "    }\n",
              "</style>\n",
              "<table border=\"1\" class=\"dataframe\">\n",
              "  <thead>\n",
              "    <tr style=\"text-align: right;\">\n",
              "      <th></th>\n",
              "      <th>col1</th>\n",
              "      <th>cal3</th>\n",
              "    </tr>\n",
              "  </thead>\n",
              "  <tbody>\n",
              "    <tr>\n",
              "      <th>a</th>\n",
              "      <td>1</td>\n",
              "      <td>3</td>\n",
              "    </tr>\n",
              "    <tr>\n",
              "      <th>b</th>\n",
              "      <td>4</td>\n",
              "      <td>6</td>\n",
              "    </tr>\n",
              "  </tbody>\n",
              "</table>\n",
              "</div>\n",
              "      <button class=\"colab-df-convert\" onclick=\"convertToInteractive('df-b39970c2-b587-446b-8cc2-d5b0dae2ee2e')\"\n",
              "              title=\"Convert this dataframe to an interactive table.\"\n",
              "              style=\"display:none;\">\n",
              "        \n",
              "  <svg xmlns=\"http://www.w3.org/2000/svg\" height=\"24px\"viewBox=\"0 0 24 24\"\n",
              "       width=\"24px\">\n",
              "    <path d=\"M0 0h24v24H0V0z\" fill=\"none\"/>\n",
              "    <path d=\"M18.56 5.44l.94 2.06.94-2.06 2.06-.94-2.06-.94-.94-2.06-.94 2.06-2.06.94zm-11 1L8.5 8.5l.94-2.06 2.06-.94-2.06-.94L8.5 2.5l-.94 2.06-2.06.94zm10 10l.94 2.06.94-2.06 2.06-.94-2.06-.94-.94-2.06-.94 2.06-2.06.94z\"/><path d=\"M17.41 7.96l-1.37-1.37c-.4-.4-.92-.59-1.43-.59-.52 0-1.04.2-1.43.59L10.3 9.45l-7.72 7.72c-.78.78-.78 2.05 0 2.83L4 21.41c.39.39.9.59 1.41.59.51 0 1.02-.2 1.41-.59l7.78-7.78 2.81-2.81c.8-.78.8-2.07 0-2.86zM5.41 20L4 18.59l7.72-7.72 1.47 1.35L5.41 20z\"/>\n",
              "  </svg>\n",
              "      </button>\n",
              "      \n",
              "  <style>\n",
              "    .colab-df-container {\n",
              "      display:flex;\n",
              "      flex-wrap:wrap;\n",
              "      gap: 12px;\n",
              "    }\n",
              "\n",
              "    .colab-df-convert {\n",
              "      background-color: #E8F0FE;\n",
              "      border: none;\n",
              "      border-radius: 50%;\n",
              "      cursor: pointer;\n",
              "      display: none;\n",
              "      fill: #1967D2;\n",
              "      height: 32px;\n",
              "      padding: 0 0 0 0;\n",
              "      width: 32px;\n",
              "    }\n",
              "\n",
              "    .colab-df-convert:hover {\n",
              "      background-color: #E2EBFA;\n",
              "      box-shadow: 0px 1px 2px rgba(60, 64, 67, 0.3), 0px 1px 3px 1px rgba(60, 64, 67, 0.15);\n",
              "      fill: #174EA6;\n",
              "    }\n",
              "\n",
              "    [theme=dark] .colab-df-convert {\n",
              "      background-color: #3B4455;\n",
              "      fill: #D2E3FC;\n",
              "    }\n",
              "\n",
              "    [theme=dark] .colab-df-convert:hover {\n",
              "      background-color: #434B5C;\n",
              "      box-shadow: 0px 1px 3px 1px rgba(0, 0, 0, 0.15);\n",
              "      filter: drop-shadow(0px 1px 2px rgba(0, 0, 0, 0.3));\n",
              "      fill: #FFFFFF;\n",
              "    }\n",
              "  </style>\n",
              "\n",
              "      <script>\n",
              "        const buttonEl =\n",
              "          document.querySelector('#df-b39970c2-b587-446b-8cc2-d5b0dae2ee2e button.colab-df-convert');\n",
              "        buttonEl.style.display =\n",
              "          google.colab.kernel.accessAllowed ? 'block' : 'none';\n",
              "\n",
              "        async function convertToInteractive(key) {\n",
              "          const element = document.querySelector('#df-b39970c2-b587-446b-8cc2-d5b0dae2ee2e');\n",
              "          const dataTable =\n",
              "            await google.colab.kernel.invokeFunction('convertToInteractive',\n",
              "                                                     [key], {});\n",
              "          if (!dataTable) return;\n",
              "\n",
              "          const docLinkHtml = 'Like what you see? Visit the ' +\n",
              "            '<a target=\"_blank\" href=https://colab.research.google.com/notebooks/data_table.ipynb>data table notebook</a>'\n",
              "            + ' to learn more about interactive tables.';\n",
              "          element.innerHTML = '';\n",
              "          dataTable['output_type'] = 'display_data';\n",
              "          await google.colab.output.renderOutput(dataTable, element);\n",
              "          const docLink = document.createElement('div');\n",
              "          docLink.innerHTML = docLinkHtml;\n",
              "          element.appendChild(docLink);\n",
              "        }\n",
              "      </script>\n",
              "    </div>\n",
              "  </div>\n",
              "  "
            ]
          },
          "metadata": {},
          "execution_count": 8
        }
      ]
    },
    {
      "cell_type": "code",
      "source": [
        "#조건색인 처리\n",
        "d3.loc[d3.col1==1,:]"
      ],
      "metadata": {
        "colab": {
          "base_uri": "https://localhost:8080/",
          "height": 81
        },
        "id": "UEaenqrAqXCj",
        "outputId": "46a2678c-7c01-4fe5-b936-503b1bb984d2"
      },
      "execution_count": 9,
      "outputs": [
        {
          "output_type": "execute_result",
          "data": {
            "text/plain": [
              "   col1  col2  cal3\n",
              "a     1     2     3"
            ],
            "text/html": [
              "\n",
              "  <div id=\"df-65bc10b0-f389-4fba-a4aa-ef0aa335e1af\">\n",
              "    <div class=\"colab-df-container\">\n",
              "      <div>\n",
              "<style scoped>\n",
              "    .dataframe tbody tr th:only-of-type {\n",
              "        vertical-align: middle;\n",
              "    }\n",
              "\n",
              "    .dataframe tbody tr th {\n",
              "        vertical-align: top;\n",
              "    }\n",
              "\n",
              "    .dataframe thead th {\n",
              "        text-align: right;\n",
              "    }\n",
              "</style>\n",
              "<table border=\"1\" class=\"dataframe\">\n",
              "  <thead>\n",
              "    <tr style=\"text-align: right;\">\n",
              "      <th></th>\n",
              "      <th>col1</th>\n",
              "      <th>col2</th>\n",
              "      <th>cal3</th>\n",
              "    </tr>\n",
              "  </thead>\n",
              "  <tbody>\n",
              "    <tr>\n",
              "      <th>a</th>\n",
              "      <td>1</td>\n",
              "      <td>2</td>\n",
              "      <td>3</td>\n",
              "    </tr>\n",
              "  </tbody>\n",
              "</table>\n",
              "</div>\n",
              "      <button class=\"colab-df-convert\" onclick=\"convertToInteractive('df-65bc10b0-f389-4fba-a4aa-ef0aa335e1af')\"\n",
              "              title=\"Convert this dataframe to an interactive table.\"\n",
              "              style=\"display:none;\">\n",
              "        \n",
              "  <svg xmlns=\"http://www.w3.org/2000/svg\" height=\"24px\"viewBox=\"0 0 24 24\"\n",
              "       width=\"24px\">\n",
              "    <path d=\"M0 0h24v24H0V0z\" fill=\"none\"/>\n",
              "    <path d=\"M18.56 5.44l.94 2.06.94-2.06 2.06-.94-2.06-.94-.94-2.06-.94 2.06-2.06.94zm-11 1L8.5 8.5l.94-2.06 2.06-.94-2.06-.94L8.5 2.5l-.94 2.06-2.06.94zm10 10l.94 2.06.94-2.06 2.06-.94-2.06-.94-.94-2.06-.94 2.06-2.06.94z\"/><path d=\"M17.41 7.96l-1.37-1.37c-.4-.4-.92-.59-1.43-.59-.52 0-1.04.2-1.43.59L10.3 9.45l-7.72 7.72c-.78.78-.78 2.05 0 2.83L4 21.41c.39.39.9.59 1.41.59.51 0 1.02-.2 1.41-.59l7.78-7.78 2.81-2.81c.8-.78.8-2.07 0-2.86zM5.41 20L4 18.59l7.72-7.72 1.47 1.35L5.41 20z\"/>\n",
              "  </svg>\n",
              "      </button>\n",
              "      \n",
              "  <style>\n",
              "    .colab-df-container {\n",
              "      display:flex;\n",
              "      flex-wrap:wrap;\n",
              "      gap: 12px;\n",
              "    }\n",
              "\n",
              "    .colab-df-convert {\n",
              "      background-color: #E8F0FE;\n",
              "      border: none;\n",
              "      border-radius: 50%;\n",
              "      cursor: pointer;\n",
              "      display: none;\n",
              "      fill: #1967D2;\n",
              "      height: 32px;\n",
              "      padding: 0 0 0 0;\n",
              "      width: 32px;\n",
              "    }\n",
              "\n",
              "    .colab-df-convert:hover {\n",
              "      background-color: #E2EBFA;\n",
              "      box-shadow: 0px 1px 2px rgba(60, 64, 67, 0.3), 0px 1px 3px 1px rgba(60, 64, 67, 0.15);\n",
              "      fill: #174EA6;\n",
              "    }\n",
              "\n",
              "    [theme=dark] .colab-df-convert {\n",
              "      background-color: #3B4455;\n",
              "      fill: #D2E3FC;\n",
              "    }\n",
              "\n",
              "    [theme=dark] .colab-df-convert:hover {\n",
              "      background-color: #434B5C;\n",
              "      box-shadow: 0px 1px 3px 1px rgba(0, 0, 0, 0.15);\n",
              "      filter: drop-shadow(0px 1px 2px rgba(0, 0, 0, 0.3));\n",
              "      fill: #FFFFFF;\n",
              "    }\n",
              "  </style>\n",
              "\n",
              "      <script>\n",
              "        const buttonEl =\n",
              "          document.querySelector('#df-65bc10b0-f389-4fba-a4aa-ef0aa335e1af button.colab-df-convert');\n",
              "        buttonEl.style.display =\n",
              "          google.colab.kernel.accessAllowed ? 'block' : 'none';\n",
              "\n",
              "        async function convertToInteractive(key) {\n",
              "          const element = document.querySelector('#df-65bc10b0-f389-4fba-a4aa-ef0aa335e1af');\n",
              "          const dataTable =\n",
              "            await google.colab.kernel.invokeFunction('convertToInteractive',\n",
              "                                                     [key], {});\n",
              "          if (!dataTable) return;\n",
              "\n",
              "          const docLinkHtml = 'Like what you see? Visit the ' +\n",
              "            '<a target=\"_blank\" href=https://colab.research.google.com/notebooks/data_table.ipynb>data table notebook</a>'\n",
              "            + ' to learn more about interactive tables.';\n",
              "          element.innerHTML = '';\n",
              "          dataTable['output_type'] = 'display_data';\n",
              "          await google.colab.output.renderOutput(dataTable, element);\n",
              "          const docLink = document.createElement('div');\n",
              "          docLink.innerHTML = docLinkHtml;\n",
              "          element.appendChild(docLink);\n",
              "        }\n",
              "      </script>\n",
              "    </div>\n",
              "  </div>\n",
              "  "
            ]
          },
          "metadata": {},
          "execution_count": 9
        }
      ]
    },
    {
      "cell_type": "code",
      "source": [
        "#기본 메서드\n",
        "d3.dtypes     #각 컬럼 별 데이터 타입 확인\n",
        "d3.index\n",
        "d3.columns\n",
        "d3.values\n",
        "\n",
        "d3.columns=['A','B','C'] #컬럼 이름 변경"
      ],
      "metadata": {
        "id": "ZpiIGihWqYlT"
      },
      "execution_count": 10,
      "outputs": []
    },
    {
      "cell_type": "code",
      "source": [
        "#연산\n",
        "d3 +10\n",
        "\n",
        "d4=DataFrame({'A':[10,40],'B':[20,30],'C':[30,80]}, index=['a','b'])\n",
        "d5=DataFrame({'A':[10,40],'B':[20,30]}, index=['a','b'])\n",
        "\n",
        "d3\n",
        "d3+d5\n",
        "d3.add(d5,fill_value=0)"
      ],
      "metadata": {
        "colab": {
          "base_uri": "https://localhost:8080/",
          "height": 112
        },
        "id": "W9rSf29tqZAj",
        "outputId": "f964458c-dfc6-47be-fb86-4cefb6546959"
      },
      "execution_count": 11,
      "outputs": [
        {
          "output_type": "execute_result",
          "data": {
            "text/plain": [
              "    A   B    C\n",
              "a  11  22  3.0\n",
              "b  44  35  6.0"
            ],
            "text/html": [
              "\n",
              "  <div id=\"df-6b53f4e3-8daa-4698-9964-208efa459d39\">\n",
              "    <div class=\"colab-df-container\">\n",
              "      <div>\n",
              "<style scoped>\n",
              "    .dataframe tbody tr th:only-of-type {\n",
              "        vertical-align: middle;\n",
              "    }\n",
              "\n",
              "    .dataframe tbody tr th {\n",
              "        vertical-align: top;\n",
              "    }\n",
              "\n",
              "    .dataframe thead th {\n",
              "        text-align: right;\n",
              "    }\n",
              "</style>\n",
              "<table border=\"1\" class=\"dataframe\">\n",
              "  <thead>\n",
              "    <tr style=\"text-align: right;\">\n",
              "      <th></th>\n",
              "      <th>A</th>\n",
              "      <th>B</th>\n",
              "      <th>C</th>\n",
              "    </tr>\n",
              "  </thead>\n",
              "  <tbody>\n",
              "    <tr>\n",
              "      <th>a</th>\n",
              "      <td>11</td>\n",
              "      <td>22</td>\n",
              "      <td>3.0</td>\n",
              "    </tr>\n",
              "    <tr>\n",
              "      <th>b</th>\n",
              "      <td>44</td>\n",
              "      <td>35</td>\n",
              "      <td>6.0</td>\n",
              "    </tr>\n",
              "  </tbody>\n",
              "</table>\n",
              "</div>\n",
              "      <button class=\"colab-df-convert\" onclick=\"convertToInteractive('df-6b53f4e3-8daa-4698-9964-208efa459d39')\"\n",
              "              title=\"Convert this dataframe to an interactive table.\"\n",
              "              style=\"display:none;\">\n",
              "        \n",
              "  <svg xmlns=\"http://www.w3.org/2000/svg\" height=\"24px\"viewBox=\"0 0 24 24\"\n",
              "       width=\"24px\">\n",
              "    <path d=\"M0 0h24v24H0V0z\" fill=\"none\"/>\n",
              "    <path d=\"M18.56 5.44l.94 2.06.94-2.06 2.06-.94-2.06-.94-.94-2.06-.94 2.06-2.06.94zm-11 1L8.5 8.5l.94-2.06 2.06-.94-2.06-.94L8.5 2.5l-.94 2.06-2.06.94zm10 10l.94 2.06.94-2.06 2.06-.94-2.06-.94-.94-2.06-.94 2.06-2.06.94z\"/><path d=\"M17.41 7.96l-1.37-1.37c-.4-.4-.92-.59-1.43-.59-.52 0-1.04.2-1.43.59L10.3 9.45l-7.72 7.72c-.78.78-.78 2.05 0 2.83L4 21.41c.39.39.9.59 1.41.59.51 0 1.02-.2 1.41-.59l7.78-7.78 2.81-2.81c.8-.78.8-2.07 0-2.86zM5.41 20L4 18.59l7.72-7.72 1.47 1.35L5.41 20z\"/>\n",
              "  </svg>\n",
              "      </button>\n",
              "      \n",
              "  <style>\n",
              "    .colab-df-container {\n",
              "      display:flex;\n",
              "      flex-wrap:wrap;\n",
              "      gap: 12px;\n",
              "    }\n",
              "\n",
              "    .colab-df-convert {\n",
              "      background-color: #E8F0FE;\n",
              "      border: none;\n",
              "      border-radius: 50%;\n",
              "      cursor: pointer;\n",
              "      display: none;\n",
              "      fill: #1967D2;\n",
              "      height: 32px;\n",
              "      padding: 0 0 0 0;\n",
              "      width: 32px;\n",
              "    }\n",
              "\n",
              "    .colab-df-convert:hover {\n",
              "      background-color: #E2EBFA;\n",
              "      box-shadow: 0px 1px 2px rgba(60, 64, 67, 0.3), 0px 1px 3px 1px rgba(60, 64, 67, 0.15);\n",
              "      fill: #174EA6;\n",
              "    }\n",
              "\n",
              "    [theme=dark] .colab-df-convert {\n",
              "      background-color: #3B4455;\n",
              "      fill: #D2E3FC;\n",
              "    }\n",
              "\n",
              "    [theme=dark] .colab-df-convert:hover {\n",
              "      background-color: #434B5C;\n",
              "      box-shadow: 0px 1px 3px 1px rgba(0, 0, 0, 0.15);\n",
              "      filter: drop-shadow(0px 1px 2px rgba(0, 0, 0, 0.3));\n",
              "      fill: #FFFFFF;\n",
              "    }\n",
              "  </style>\n",
              "\n",
              "      <script>\n",
              "        const buttonEl =\n",
              "          document.querySelector('#df-6b53f4e3-8daa-4698-9964-208efa459d39 button.colab-df-convert');\n",
              "        buttonEl.style.display =\n",
              "          google.colab.kernel.accessAllowed ? 'block' : 'none';\n",
              "\n",
              "        async function convertToInteractive(key) {\n",
              "          const element = document.querySelector('#df-6b53f4e3-8daa-4698-9964-208efa459d39');\n",
              "          const dataTable =\n",
              "            await google.colab.kernel.invokeFunction('convertToInteractive',\n",
              "                                                     [key], {});\n",
              "          if (!dataTable) return;\n",
              "\n",
              "          const docLinkHtml = 'Like what you see? Visit the ' +\n",
              "            '<a target=\"_blank\" href=https://colab.research.google.com/notebooks/data_table.ipynb>data table notebook</a>'\n",
              "            + ' to learn more about interactive tables.';\n",
              "          element.innerHTML = '';\n",
              "          dataTable['output_type'] = 'display_data';\n",
              "          await google.colab.output.renderOutput(dataTable, element);\n",
              "          const docLink = document.createElement('div');\n",
              "          docLink.innerHTML = docLinkHtml;\n",
              "          element.appendChild(docLink);\n",
              "        }\n",
              "      </script>\n",
              "    </div>\n",
              "  </div>\n",
              "  "
            ]
          },
          "metadata": {},
          "execution_count": 11
        }
      ]
    },
    {
      "cell_type": "markdown",
      "source": [
        "# 문자열 메서드"
      ],
      "metadata": {
        "id": "0KZfeIVRq7-z"
      }
    },
    {
      "cell_type": "markdown",
      "source": [
        "## 기본 메서드:벡터 연산 불가능(매 원소마다 반복 불가)\n"
      ],
      "metadata": {
        "id": "Kau9q9lErDjf"
      }
    },
    {
      "cell_type": "code",
      "source": [
        "'abc'.upper()\n",
        "'a/b/c'.split('/')\n",
        "\n",
        "l1=['abc','def']\n",
        "l2=['a/b/c','d/e/f']\n",
        "\n",
        "l1.upper()  #불가\n",
        "l2.upper()  #불가\n",
        "\n",
        "list(map(lambda x: x.upper(),l1))\n",
        "list(map(lambda x: x.split('/'),l2))"
      ],
      "metadata": {
        "colab": {
          "base_uri": "https://localhost:8080/"
        },
        "id": "7yyTvUD_qmX2",
        "outputId": "abef3302-047f-4fd7-86aa-195edcd1a51f"
      },
      "execution_count": 13,
      "outputs": [
        {
          "output_type": "execute_result",
          "data": {
            "text/plain": [
              "[['a', 'b', 'c'], ['d', 'e', 'f']]"
            ]
          },
          "metadata": {},
          "execution_count": 13
        }
      ]
    },
    {
      "cell_type": "markdown",
      "source": [
        "## pandas 메서드\n"
      ],
      "metadata": {
        "id": "qOjUbimLrHLL"
      }
    },
    {
      "cell_type": "markdown",
      "source": [
        "- 벡터화 내장(매 원소마다 반복 가능)\n",
        "- Series, DataFrame 적용가능"
      ],
      "metadata": {
        "id": "FFrWxfoArSFX"
      }
    },
    {
      "cell_type": "code",
      "source": [
        "# 1)split\n",
        "Series(l1)\n",
        "# 0    abc\n",
        "# 1    def\n",
        "# dtype: object\n",
        "\n",
        "s1=Series(l1)\n",
        "s2=Series(l2)\n",
        "\n",
        "s2\n",
        "# 0    a/b/c\n",
        "# 1    d/e/f\n",
        "# dtype: object\n",
        "\n",
        "s2.split('/')  #불가\n",
        "s2.str.split('/') #가능\n",
        "# 0    [a, b, c]\n",
        "# 1    [d, e, f]\n",
        "# dtype: object\n",
        "\n",
        "#대소치환\n",
        "s1.str.upper()     #대문자\n",
        "s1.str.lower()     #소문자\n",
        "s1.str.title()\n",
        "# 0    Abc\n",
        "# 1    Def\n",
        "# dtype: object\n",
        "\n",
        "#replace(치환)\n",
        "s1.str.replace('a','A') #문자열 치환\n",
        "s1.str.replace('a','')  #문자열 삭제"
      ],
      "metadata": {
        "colab": {
          "base_uri": "https://localhost:8080/"
        },
        "id": "E4QKXDqArRkO",
        "outputId": "2ed5cafe-2946-4891-e4ee-3071d17200b7"
      },
      "execution_count": 15,
      "outputs": [
        {
          "output_type": "execute_result",
          "data": {
            "text/plain": [
              "0     bc\n",
              "1    def\n",
              "dtype: object"
            ]
          },
          "metadata": {},
          "execution_count": 15
        }
      ]
    },
    {
      "cell_type": "code",
      "source": [
        "#[예제] 천단위 구분기호 처리\n",
        "s3=Series(['1,200','3,000','4,000'])\n",
        "# 0    1,200\n",
        "# 1    3,000\n",
        "# 2    4,000\n",
        "# dtype: object\n",
        "s3.str.replace(',','').astype(int).sum()"
      ],
      "metadata": {
        "colab": {
          "base_uri": "https://localhost:8080/"
        },
        "id": "KvOc06kRrkL5",
        "outputId": "71e8f445-bf20-4a25-dcef-776f38711ea3"
      },
      "execution_count": 16,
      "outputs": [
        {
          "output_type": "execute_result",
          "data": {
            "text/plain": [
              "8200"
            ]
          },
          "metadata": {},
          "execution_count": 16
        }
      ]
    },
    {
      "cell_type": "markdown",
      "source": [
        "### 패턴 확인: startswith, endswith, contains"
      ],
      "metadata": {
        "id": "awcRYoySr5Ds"
      }
    },
    {
      "cell_type": "code",
      "source": [
        "s1.str.startswith('a')\n",
        "# 0     True\n",
        "# 1    False\n",
        "# dtype: bool\n",
        "s1[s1.str.startswith('a')] #s1 각 원소에서 a로 시작하는 원소 추출\n",
        "s1[s1.str.endswith('c')]   #s1 각 원소에서 c로 끝나는 원소 추출\n",
        "s1[s1.str.contains('c')]   #s1 각 원소에서 c를 포함하는 원소 추출\n",
        "\n",
        "#문자열 크기 len()\n",
        "s1.str.len()      #각 원소의 크기\n",
        "#count\n",
        "Series(['aabca','abcsa']).str.count('a')\n",
        "#문자열 제거\n",
        "Series(['     cd     ','          df ']).str.strip()\n",
        "Series(['     cd     ','          df ']).str.strip().str.len()\n",
        "\n",
        "s1.str.strip('a') #문자열 제거\n",
        "Series(['aasdadsaasd','abaaaaabaaaas']).str.strip('a')       #문자열 제거(중간값 삭제 불가)\n",
        "Series(['aasdadsaasd','abaaaaabaaaas']).str.replace('a','')  #all a 제거\n",
        "\n",
        "#find: 위치값 리턴\n",
        "s3=Series(['abc@nave.com','nadaink@naver.com'])\n",
        "s3.str.find('@')\n",
        "\n",
        "#문자열 색인(추출)\n",
        "'abcdef'[0:3]\n",
        "s3[0:1]\n",
        "# 0    abc@nave.com\n",
        "# dtype: object\n",
        "s3.str[0:3] #Series 에서 각 원소마다 1~3번까지의 문자열 추출"
      ],
      "metadata": {
        "colab": {
          "base_uri": "https://localhost:8080/"
        },
        "id": "nfLqTlxXrxRu",
        "outputId": "380c9a1b-34c6-4349-806c-57c3230d9fc8"
      },
      "execution_count": 17,
      "outputs": [
        {
          "output_type": "execute_result",
          "data": {
            "text/plain": [
              "0    abc\n",
              "1    nad\n",
              "dtype: object"
            ]
          },
          "metadata": {},
          "execution_count": 17
        }
      ]
    },
    {
      "cell_type": "code",
      "source": [
        "#[예제]: 이메일 아이디 추출\n",
        "s3=Series(['abc@nave.com','nadainkyu@naver.com'])\n",
        "\n",
        "list(s3.map(lambda x: x[:x.find('@')]))\n",
        "list(map(lambda x,y: x[0:y],s3,s3.str.find('@')))"
      ],
      "metadata": {
        "colab": {
          "base_uri": "https://localhost:8080/"
        },
        "id": "SVVe_mLvr8SE",
        "outputId": "ddff04bb-b2df-4baa-fd7a-3f6f6c37e399"
      },
      "execution_count": 21,
      "outputs": [
        {
          "output_type": "execute_result",
          "data": {
            "text/plain": [
              "['abc', 'nadainkyu']"
            ]
          },
          "metadata": {},
          "execution_count": 21
        }
      ]
    },
    {
      "cell_type": "code",
      "source": [
        "#문자열 삽입 pad\n",
        "\n",
        "s1.str.pad(5,            #문자열수\n",
        "           'left',       #위치\n",
        "           '!')          #삽입 문자\n",
        "# 0    !!abc\n",
        "# 1    !!def\n",
        "# dtype: object\n",
        "\n",
        "#문자열 결합 cat\n",
        "'a'+'b'\n",
        "'a'*3\n",
        "\n",
        "s4=Series(['abc','def','123'])\n",
        "s4.str.cat()        #Series 내 서로 다른 원소 결합\n",
        "s4.str.cat(sep='/') #Series 내 서로 다른 원소 /로 구분 결합\n",
        "\n",
        "s5=Series([['a','b','c'],['d','e','f']])\n",
        "# 0    [a, b, c]\n",
        "# 1    [d, e, f]\n",
        "# dtype: object\n",
        "s5.str.join(sep='') #Series 내 각 원소 내부의 문자열 결합\n",
        "# 0    abc\n",
        "# 1    def\n",
        "# dtype: object\n",
        "s5.str.join(sep='\\'')"
      ],
      "metadata": {
        "colab": {
          "base_uri": "https://localhost:8080/"
        },
        "id": "QuFDHzJqr_PD",
        "outputId": "c79d2673-bf95-4d49-d59a-0fea30982b38"
      },
      "execution_count": 22,
      "outputs": [
        {
          "output_type": "execute_result",
          "data": {
            "text/plain": [
              "0    a'b'c\n",
              "1    d'e'f\n",
              "dtype: object"
            ]
          },
          "metadata": {},
          "execution_count": 22
        }
      ]
    },
    {
      "cell_type": "markdown",
      "source": [
        "# 산술연산 메서드"
      ],
      "metadata": {
        "id": "Z4ZzQbT5sYeg"
      }
    },
    {
      "cell_type": "code",
      "source": [
        "df1 = DataFrame(np.arange(1,17).reshape(4,4))\n",
        "\n",
        "dir(df1)\n",
        "\n",
        "df1\n",
        "df1.sum(axis=0)  # 행별(서로 다른 행끼리)\n",
        "df1.sum(axis=1)  # 컬럼별(서로 다른 열끼리)\n",
        "\n",
        "df1.iloc[:,0].sum()\n",
        "df1.iloc[:,0].mean()\n",
        "\n",
        "df1.iloc[0,0] = np.nan\n",
        "df1\n",
        "df1.iloc[:,0].mean()\n",
        "# skipna = True (default) 자동으로 NaN 무시하고 연산\n",
        "\n",
        "# 평균값(최대 또는 최소) 대치\n",
        "\n",
        "df1.iloc[:,0].isnull()   # 조건(boolean)\n",
        "# 0     True\n",
        "# 1    False\n",
        "# 2    False\n",
        "# 3    False\n",
        "# Name: 0, dtype: bool\n",
        "\n",
        "df1.iloc[:,0][df1.iloc[:,0].isnull()] = df1.iloc[:,0].mean()\n",
        "\n",
        "df1.isnull()\n",
        "df1[df1.notnull()]   # 데이터프레임 전체에서 NaN 값 확인 \n",
        "\n",
        "df1.iloc[:,0].var() # 10.666666666666666 >> 분산\n",
        "df1.iloc[:,0].std() # 3.265986323710904 >> 표준편차 \n",
        "df1.iloc[:,0].min() # 5.0 >> 최소값\n",
        "df1.iloc[:,0].max() # 13.0 >> 최대값\n",
        "df1.iloc[:,0].median() # 9.0 >> 중위수(중앙값)\n",
        "\n",
        "(df1.iloc[:,0] >= 10).sum()  # 1 >> 조건에 만족하는 개수 확인"
      ],
      "metadata": {
        "colab": {
          "base_uri": "https://localhost:8080/"
        },
        "id": "gZ28lkVAsi3G",
        "outputId": "cfa8961d-0b61-472b-a2c9-cfaf88b2eaf7"
      },
      "execution_count": 23,
      "outputs": [
        {
          "output_type": "stream",
          "name": "stderr",
          "text": [
            "/usr/local/lib/python3.7/dist-packages/ipykernel_launcher.py:26: SettingWithCopyWarning: \n",
            "A value is trying to be set on a copy of a slice from a DataFrame\n",
            "\n",
            "See the caveats in the documentation: https://pandas.pydata.org/pandas-docs/stable/user_guide/indexing.html#returning-a-view-versus-a-copy\n"
          ]
        },
        {
          "output_type": "execute_result",
          "data": {
            "text/plain": [
              "1"
            ]
          },
          "metadata": {},
          "execution_count": 23
        }
      ]
    },
    {
      "cell_type": "markdown",
      "source": [
        "# 치환 삭제 메서드"
      ],
      "metadata": {
        "id": "pbWGEszEw6Lr"
      }
    },
    {
      "cell_type": "markdown",
      "source": [
        "## 기본 문자열 메서드"
      ],
      "metadata": {
        "id": "-gipRHaHxG26"
      }
    },
    {
      "cell_type": "markdown",
      "source": [
        "기본 파이썬 제공\n",
        "\n",
        "문자열에서 호출 가능\n",
        "\n",
        "벡터 연산(각 원소별 반복 처리) 불가\n",
        "\n",
        "오직 문자열 치환만 가능(숫자치환, NA 치환 불가능)"
      ],
      "metadata": {
        "id": "2EzeWjc1xLBe"
      }
    },
    {
      "cell_type": "code",
      "source": [
        "'abcd'.replace('a','A') # 'Abcd'  >> a를 A로 치환 \n",
        "'abcd'.replace('a','')  # 'bcd' >> 공백으로 치환\n",
        "'abcd1'.replace(1, '')  # 숫자를 찾아서 치환하는 거 안됨\n",
        "# TypeError: replace() argument 1 must be str, not int\n",
        "' bcd1'.replace('', 1)  # 숫자로 치환하는 거 안됨 \n",
        "\n",
        "['abcd','abcde','aabb'].replace(',','')\n",
        "# AttributeError: 'list' object has no attribute 'replace'\n",
        "# list 는 replace 호출 불가 \n",
        "\n",
        "# for 문 활용 \n",
        "\n",
        "outlist = []\n",
        "for i in ['abcd','abcde','aabb']:\n",
        "    outlist.append(i.replace('a','A'))\n",
        "\n",
        "print(outlist)\n",
        "\n",
        "# ['Abcd', 'Abcde', 'AAbb']\n",
        "\n",
        "# map함수 \n",
        "f1 = lambda x : x.replace('a','A')\n",
        "list(map(f1,['abcd','abcde','aabb']))\n",
        "# ['Abcd', 'Abcde', 'AAbb']\n",
        "\n",
        "['abcd','abcde','aabb'].map(f1)\n",
        "# AttributeError: 'list' object has no attribute 'map'\n",
        "# list 객체는 map 함수 호출 불가 \n",
        "\n",
        "['abcd','abcde','aabb'].map(f1) # 호출 불가 \n",
        "Series(['abcd','abcde','aabb']).map(f1) # Series는 호출 가능(method chaining)\n",
        "\n",
        "# 0     Abcd\n",
        "# 1    Abcde\n",
        "# 2     AAbb\n",
        "# dtype: object\n",
        "\n",
        "Series(['abcd','abcde','aaaab',np.nan]).map(lambda x: x.replace(np.nan,''))\n",
        "# TypeError: replace() argument 1 must be str, not float\n",
        "# 문자열(str) 이여야 함"
      ],
      "metadata": {
        "id": "wIGoe15usjTu"
      },
      "execution_count": null,
      "outputs": []
    },
    {
      "cell_type": "markdown",
      "source": [
        "## str.replace"
      ],
      "metadata": {
        "id": "VB7HlGNexO3Y"
      }
    },
    {
      "cell_type": "markdown",
      "source": [
        "pandas 제공(Series 객체만 호출 가능)\n",
        "\n",
        "벡터화 내장된 문자열 메서드\n",
        "\n",
        "문자열 호출 가능\n",
        "\n",
        "벡터 연산(각 원소별 반복 처리) 가능\n",
        "\n",
        "오직 문자열 치환만 가능(숫자 치환, NA 치환 불가)\n",
        "\n",
        "숫자로 구성된 Series 적용 불가\n",
        "\n"
      ],
      "metadata": {
        "id": "eNU8Dl5PxWia"
      }
    },
    {
      "cell_type": "code",
      "source": [
        "df1 = DataFrame([['1,200','1,300'],['1,400','1,500']])\n",
        "df1\n",
        "#        0      1\n",
        "# 0  1,200  1,300\n",
        "# 1  1,400  1,500\n",
        "\n",
        "df1.replace(',','')  # what? 변화 없음 ',' 로 생긴 값을 삭제하는 의미 \n",
        "#        0      1\n",
        "# 0  1,200  1,300\n",
        "# 1  1,400  1,500\n",
        "\n",
        "df2 = DataFrame([['1,200',','],['1,400','1,500']])\n",
        "df2\n",
        "#        0      1\n",
        "# 0  1,200      ,\n",
        "# 1  1,400  1,500\n",
        "\n",
        "df2.replace(',','')\n",
        "#        0      1\n",
        "# 0  1,200       \n",
        "# 1  1,400  1,500\n",
        "\n",
        "df3 = DataFrame([['1200','1300'],['1400','.']], columns =['a','b'])\n",
        "df3\n",
        "df3.replace('.', np.nan)  # '.' 와 완전히 일치하는 값은 NaN 치환\n",
        "#       a     b\n",
        "# 0  1200  1300\n",
        "# 1  1400   NaN\n",
        "\n",
        "df3.replace(['.','1400','?','!'], np.nan)\n",
        "#       a     b\n",
        "# 0  1200  1300\n",
        "# 1   NaN   NaN"
      ],
      "metadata": {
        "id": "X-eamqA-xXQq"
      },
      "execution_count": null,
      "outputs": []
    },
    {
      "cell_type": "code",
      "source": [
        "#[연습 문제]: df1 에 천단위 구분기호 제거 후 모두 숫자 변경 \n",
        "df1\n",
        "df1.replace(',','')\n",
        "\n",
        "df1.str.replace(',','')\n",
        "df1.str.replace(',', '').astype('int64')\n",
        "# AttributeError: 'DataFrame' object has no attribute 'str'\n",
        "\n",
        "df1.applymap(lambda x: int(x.replace(',','')))\n",
        "# scala 에서는 문자열이 아닌 숫자로 변경해야 함 \n",
        "#       0     1\n",
        "# 0  1200  1300\n",
        "# 1  1400  1500\n",
        "\n",
        "df1.applymap(lambda x: int(x.replace(',',''))).sum()\n",
        "\n",
        "\n",
        "# 우리 동료 코드 \n",
        "copy_df1=df1\n",
        "for i in range(0,len(df1)):\n",
        "    copy_df1[i] = df1[i].str.replace(',','')\n",
        "print(copy_df1)\n",
        "\n",
        "\n",
        "df1 = DataFrame([['1,200','1,300'],['1,400','1,500']])\n",
        "for i in range(len(df1)):\n",
        "    if df1[i].all() != 'int':\n",
        "        df1[i] = df1[i].str.replace(',', '').astype('int')\n",
        "    else:\n",
        "        pass\n",
        "print(df1)"
      ],
      "metadata": {
        "id": "GOK9FAutxf5C"
      },
      "execution_count": null,
      "outputs": []
    }
  ]
}