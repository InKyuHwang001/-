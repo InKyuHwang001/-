{
  "nbformat": 4,
  "nbformat_minor": 0,
  "metadata": {
    "colab": {
      "name": "05_판다스(결측치, 중복값, 날짜표현).ipynb",
      "provenance": [],
      "collapsed_sections": [
        "EDOn2H3PGr1z",
        "xUpeYSvOGy0j",
        "IJ4W2wJ6HmpG"
      ]
    },
    "kernelspec": {
      "name": "python3",
      "display_name": "Python 3"
    },
    "language_info": {
      "name": "python"
    },
    "accelerator": "GPU",
    "gpuClass": "standard"
  },
  "cells": [
    {
      "cell_type": "code",
      "source": [
        "import numpy as np\n",
        "import pandas as pd\n",
        "from pandas import Series, DataFrame\n",
        "\n",
        "from datetime import datetime"
      ],
      "metadata": {
        "id": "oQgpLy2FTWAZ"
      },
      "execution_count": 1,
      "outputs": []
    },
    {
      "cell_type": "markdown",
      "source": [
        "# NA(결측치) 처리, 중복값 제거"
      ],
      "metadata": {
        "id": "EDOn2H3PGr1z"
      }
    },
    {
      "cell_type": "markdown",
      "source": [
        "## NA(결측치) 처리"
      ],
      "metadata": {
        "id": "xUpeYSvOGy0j"
      }
    },
    {
      "cell_type": "code",
      "source": [
        "s1=Series([1,2,3,np.nan])\n",
        "s2=Series(['a','b','c',np.nan])"
      ],
      "metadata": {
        "id": "mFhVjv43Oa5J"
      },
      "execution_count": 2,
      "outputs": []
    },
    {
      "cell_type": "code",
      "source": [
        "# 1.NA 수정\n",
        "s1.mean()           #NaN 값 제외하고 평균값 산출함\n",
        "s1.fillna(0)        #fillna 사용한 치완>>제일 많이 활용함\n",
        "s2.replace(np.nan,'a')\n",
        "#조건 색인을 해서 NA처리 기능 \n",
        "s1[s1.isnull()]=0"
      ],
      "metadata": {
        "id": "TMzk4ZStG8oP"
      },
      "execution_count": 5,
      "outputs": []
    },
    {
      "cell_type": "code",
      "source": [
        "#2. NA로의 수정\n",
        "s3=Series(['서울','.','대전','.','대구','.','부산','.'])\n",
        "s4=s3.replace('.',np.nan)"
      ],
      "metadata": {
        "id": "V47V-aOXG_JE"
      },
      "execution_count": 6,
      "outputs": []
    },
    {
      "cell_type": "code",
      "source": [
        "#3.na를 이전 값/ 이후 값 수정\n",
        "s4.fillna(method='ffill') #NA를 앞에 있는 값으로 치환\n",
        "s4.ffill()                #NA를 앞에 있는 값으로 치환"
      ],
      "metadata": {
        "colab": {
          "base_uri": "https://localhost:8080/"
        },
        "id": "ciZV1NooHCfL",
        "outputId": "02d3f2a8-a0dd-4591-b6cd-9cb82b96017c"
      },
      "execution_count": 7,
      "outputs": [
        {
          "output_type": "execute_result",
          "data": {
            "text/plain": [
              "0    서울\n",
              "1    서울\n",
              "2    대전\n",
              "3    대전\n",
              "4    대구\n",
              "5    대구\n",
              "6    부산\n",
              "7    부산\n",
              "dtype: object"
            ]
          },
          "metadata": {},
          "execution_count": 7
        }
      ]
    },
    {
      "cell_type": "code",
      "source": [
        "#4. NA를 갖는 행, 열 제거\n",
        "df1=DataFrame(np.arange(1,17).reshape(4,-1), columns=list('ABCD'))\n",
        "'''\n",
        "  A   B   C   D\n",
        "0   1   2   3   4\n",
        "1   5   6   7   8\n",
        "2   9  10  11  12\n",
        "3  13  14  15  16\n",
        "'''\n",
        "df1.iloc[0,0]=np.nan\n",
        "df1.iloc[1,[0,1]]=np.nan\n",
        "df1.iloc[2,[0,1,2]]=np.nan\n",
        "df1.iloc[3,:]=np.nan\n",
        "\n",
        "df1.dropna()            #NA를 하나라도 포함된 행 제거\n",
        "df1.dropna(how='any')   #NA를 하나라도 포함된 행 제거\n",
        "df1.dropna(how='all')   #모든 값이 NA인 행 제거(결측치 처리시 반드시 사용할 것)\n",
        "\n",
        "df1.dropna(thresh=2)    #NA 아닌 값이 최소 2개 이상이면 제거하지 않음(꼭 쓰기)\n",
        "df1.dropna(axis=1, how='all')\n",
        "#특정 컬럼이 모두 NA로만 구성되어 있으면 해당 컬럼 제거\n",
        "\n",
        "df1.dropna(subset=['C'])\n",
        "# C컬럼에 NA가 있는 행 제거(실무에서 유용)"
      ],
      "metadata": {
        "colab": {
          "base_uri": "https://localhost:8080/",
          "height": 112
        },
        "id": "JCs9qKi-HRbn",
        "outputId": "d695ea24-10cb-408d-f4ca-53ca393904cf"
      },
      "execution_count": 8,
      "outputs": [
        {
          "output_type": "execute_result",
          "data": {
            "text/plain": [
              "    A    B    C    D\n",
              "0 NaN  2.0  3.0  4.0\n",
              "1 NaN  NaN  7.0  8.0"
            ],
            "text/html": [
              "\n",
              "  <div id=\"df-366013d1-7b07-492e-a1fe-05b94bf76655\">\n",
              "    <div class=\"colab-df-container\">\n",
              "      <div>\n",
              "<style scoped>\n",
              "    .dataframe tbody tr th:only-of-type {\n",
              "        vertical-align: middle;\n",
              "    }\n",
              "\n",
              "    .dataframe tbody tr th {\n",
              "        vertical-align: top;\n",
              "    }\n",
              "\n",
              "    .dataframe thead th {\n",
              "        text-align: right;\n",
              "    }\n",
              "</style>\n",
              "<table border=\"1\" class=\"dataframe\">\n",
              "  <thead>\n",
              "    <tr style=\"text-align: right;\">\n",
              "      <th></th>\n",
              "      <th>A</th>\n",
              "      <th>B</th>\n",
              "      <th>C</th>\n",
              "      <th>D</th>\n",
              "    </tr>\n",
              "  </thead>\n",
              "  <tbody>\n",
              "    <tr>\n",
              "      <th>0</th>\n",
              "      <td>NaN</td>\n",
              "      <td>2.0</td>\n",
              "      <td>3.0</td>\n",
              "      <td>4.0</td>\n",
              "    </tr>\n",
              "    <tr>\n",
              "      <th>1</th>\n",
              "      <td>NaN</td>\n",
              "      <td>NaN</td>\n",
              "      <td>7.0</td>\n",
              "      <td>8.0</td>\n",
              "    </tr>\n",
              "  </tbody>\n",
              "</table>\n",
              "</div>\n",
              "      <button class=\"colab-df-convert\" onclick=\"convertToInteractive('df-366013d1-7b07-492e-a1fe-05b94bf76655')\"\n",
              "              title=\"Convert this dataframe to an interactive table.\"\n",
              "              style=\"display:none;\">\n",
              "        \n",
              "  <svg xmlns=\"http://www.w3.org/2000/svg\" height=\"24px\"viewBox=\"0 0 24 24\"\n",
              "       width=\"24px\">\n",
              "    <path d=\"M0 0h24v24H0V0z\" fill=\"none\"/>\n",
              "    <path d=\"M18.56 5.44l.94 2.06.94-2.06 2.06-.94-2.06-.94-.94-2.06-.94 2.06-2.06.94zm-11 1L8.5 8.5l.94-2.06 2.06-.94-2.06-.94L8.5 2.5l-.94 2.06-2.06.94zm10 10l.94 2.06.94-2.06 2.06-.94-2.06-.94-.94-2.06-.94 2.06-2.06.94z\"/><path d=\"M17.41 7.96l-1.37-1.37c-.4-.4-.92-.59-1.43-.59-.52 0-1.04.2-1.43.59L10.3 9.45l-7.72 7.72c-.78.78-.78 2.05 0 2.83L4 21.41c.39.39.9.59 1.41.59.51 0 1.02-.2 1.41-.59l7.78-7.78 2.81-2.81c.8-.78.8-2.07 0-2.86zM5.41 20L4 18.59l7.72-7.72 1.47 1.35L5.41 20z\"/>\n",
              "  </svg>\n",
              "      </button>\n",
              "      \n",
              "  <style>\n",
              "    .colab-df-container {\n",
              "      display:flex;\n",
              "      flex-wrap:wrap;\n",
              "      gap: 12px;\n",
              "    }\n",
              "\n",
              "    .colab-df-convert {\n",
              "      background-color: #E8F0FE;\n",
              "      border: none;\n",
              "      border-radius: 50%;\n",
              "      cursor: pointer;\n",
              "      display: none;\n",
              "      fill: #1967D2;\n",
              "      height: 32px;\n",
              "      padding: 0 0 0 0;\n",
              "      width: 32px;\n",
              "    }\n",
              "\n",
              "    .colab-df-convert:hover {\n",
              "      background-color: #E2EBFA;\n",
              "      box-shadow: 0px 1px 2px rgba(60, 64, 67, 0.3), 0px 1px 3px 1px rgba(60, 64, 67, 0.15);\n",
              "      fill: #174EA6;\n",
              "    }\n",
              "\n",
              "    [theme=dark] .colab-df-convert {\n",
              "      background-color: #3B4455;\n",
              "      fill: #D2E3FC;\n",
              "    }\n",
              "\n",
              "    [theme=dark] .colab-df-convert:hover {\n",
              "      background-color: #434B5C;\n",
              "      box-shadow: 0px 1px 3px 1px rgba(0, 0, 0, 0.15);\n",
              "      filter: drop-shadow(0px 1px 2px rgba(0, 0, 0, 0.3));\n",
              "      fill: #FFFFFF;\n",
              "    }\n",
              "  </style>\n",
              "\n",
              "      <script>\n",
              "        const buttonEl =\n",
              "          document.querySelector('#df-366013d1-7b07-492e-a1fe-05b94bf76655 button.colab-df-convert');\n",
              "        buttonEl.style.display =\n",
              "          google.colab.kernel.accessAllowed ? 'block' : 'none';\n",
              "\n",
              "        async function convertToInteractive(key) {\n",
              "          const element = document.querySelector('#df-366013d1-7b07-492e-a1fe-05b94bf76655');\n",
              "          const dataTable =\n",
              "            await google.colab.kernel.invokeFunction('convertToInteractive',\n",
              "                                                     [key], {});\n",
              "          if (!dataTable) return;\n",
              "\n",
              "          const docLinkHtml = 'Like what you see? Visit the ' +\n",
              "            '<a target=\"_blank\" href=https://colab.research.google.com/notebooks/data_table.ipynb>data table notebook</a>'\n",
              "            + ' to learn more about interactive tables.';\n",
              "          element.innerHTML = '';\n",
              "          dataTable['output_type'] = 'display_data';\n",
              "          await google.colab.output.renderOutput(dataTable, element);\n",
              "          const docLink = document.createElement('div');\n",
              "          docLink.innerHTML = docLinkHtml;\n",
              "          element.appendChild(docLink);\n",
              "        }\n",
              "      </script>\n",
              "    </div>\n",
              "  </div>\n",
              "  "
            ]
          },
          "metadata": {},
          "execution_count": 8
        }
      ]
    },
    {
      "cell_type": "markdown",
      "source": [
        "## 중복값 처리"
      ],
      "metadata": {
        "id": "IJ4W2wJ6HmpG"
      }
    },
    {
      "cell_type": "code",
      "source": [
        "s1=Series([1,2,3,4,1])\n",
        "s1.unique() #array([1, 2, 3, 4], dtype=int64)\n",
        "s1.duplicated() #중복된 값 확인(boolen 으로 변환)\n",
        "s1.drop_duplicates() #중복 제거\n",
        "\n",
        "df2=DataFrame({'A':[1,1,3,4,],'B':[10,10,30,40]})\n",
        "df2.drop_duplicates()\n",
        "\n",
        "df3=DataFrame({'A':[1,1,3,4],'B':[10,10,30,40],\"c\":[100,100,300,400]})\n",
        "df3.drop_duplicates()\n",
        "#모든 컬럼의 값이 일치하는 행 제거\n",
        "\n",
        "df3.drop_duplicates(subset=['A',\"B\"])\n",
        "#A,B컬럼 값이 일치하는 행만 제거\n",
        "\n",
        "df3.drop_duplicates(subset=['A','B'], keep='last')\n",
        "#뒤 행을 살리기"
      ],
      "metadata": {
        "colab": {
          "base_uri": "https://localhost:8080/",
          "height": 143
        },
        "id": "bQgeTyEEHa_F",
        "outputId": "935c8186-ec02-44d3-86b6-7eadf31ce348"
      },
      "execution_count": 9,
      "outputs": [
        {
          "output_type": "execute_result",
          "data": {
            "text/plain": [
              "   A   B    c\n",
              "1  1  10  100\n",
              "2  3  30  300\n",
              "3  4  40  400"
            ],
            "text/html": [
              "\n",
              "  <div id=\"df-63a7eb69-4d1b-4345-83c5-ae39b173998b\">\n",
              "    <div class=\"colab-df-container\">\n",
              "      <div>\n",
              "<style scoped>\n",
              "    .dataframe tbody tr th:only-of-type {\n",
              "        vertical-align: middle;\n",
              "    }\n",
              "\n",
              "    .dataframe tbody tr th {\n",
              "        vertical-align: top;\n",
              "    }\n",
              "\n",
              "    .dataframe thead th {\n",
              "        text-align: right;\n",
              "    }\n",
              "</style>\n",
              "<table border=\"1\" class=\"dataframe\">\n",
              "  <thead>\n",
              "    <tr style=\"text-align: right;\">\n",
              "      <th></th>\n",
              "      <th>A</th>\n",
              "      <th>B</th>\n",
              "      <th>c</th>\n",
              "    </tr>\n",
              "  </thead>\n",
              "  <tbody>\n",
              "    <tr>\n",
              "      <th>1</th>\n",
              "      <td>1</td>\n",
              "      <td>10</td>\n",
              "      <td>100</td>\n",
              "    </tr>\n",
              "    <tr>\n",
              "      <th>2</th>\n",
              "      <td>3</td>\n",
              "      <td>30</td>\n",
              "      <td>300</td>\n",
              "    </tr>\n",
              "    <tr>\n",
              "      <th>3</th>\n",
              "      <td>4</td>\n",
              "      <td>40</td>\n",
              "      <td>400</td>\n",
              "    </tr>\n",
              "  </tbody>\n",
              "</table>\n",
              "</div>\n",
              "      <button class=\"colab-df-convert\" onclick=\"convertToInteractive('df-63a7eb69-4d1b-4345-83c5-ae39b173998b')\"\n",
              "              title=\"Convert this dataframe to an interactive table.\"\n",
              "              style=\"display:none;\">\n",
              "        \n",
              "  <svg xmlns=\"http://www.w3.org/2000/svg\" height=\"24px\"viewBox=\"0 0 24 24\"\n",
              "       width=\"24px\">\n",
              "    <path d=\"M0 0h24v24H0V0z\" fill=\"none\"/>\n",
              "    <path d=\"M18.56 5.44l.94 2.06.94-2.06 2.06-.94-2.06-.94-.94-2.06-.94 2.06-2.06.94zm-11 1L8.5 8.5l.94-2.06 2.06-.94-2.06-.94L8.5 2.5l-.94 2.06-2.06.94zm10 10l.94 2.06.94-2.06 2.06-.94-2.06-.94-.94-2.06-.94 2.06-2.06.94z\"/><path d=\"M17.41 7.96l-1.37-1.37c-.4-.4-.92-.59-1.43-.59-.52 0-1.04.2-1.43.59L10.3 9.45l-7.72 7.72c-.78.78-.78 2.05 0 2.83L4 21.41c.39.39.9.59 1.41.59.51 0 1.02-.2 1.41-.59l7.78-7.78 2.81-2.81c.8-.78.8-2.07 0-2.86zM5.41 20L4 18.59l7.72-7.72 1.47 1.35L5.41 20z\"/>\n",
              "  </svg>\n",
              "      </button>\n",
              "      \n",
              "  <style>\n",
              "    .colab-df-container {\n",
              "      display:flex;\n",
              "      flex-wrap:wrap;\n",
              "      gap: 12px;\n",
              "    }\n",
              "\n",
              "    .colab-df-convert {\n",
              "      background-color: #E8F0FE;\n",
              "      border: none;\n",
              "      border-radius: 50%;\n",
              "      cursor: pointer;\n",
              "      display: none;\n",
              "      fill: #1967D2;\n",
              "      height: 32px;\n",
              "      padding: 0 0 0 0;\n",
              "      width: 32px;\n",
              "    }\n",
              "\n",
              "    .colab-df-convert:hover {\n",
              "      background-color: #E2EBFA;\n",
              "      box-shadow: 0px 1px 2px rgba(60, 64, 67, 0.3), 0px 1px 3px 1px rgba(60, 64, 67, 0.15);\n",
              "      fill: #174EA6;\n",
              "    }\n",
              "\n",
              "    [theme=dark] .colab-df-convert {\n",
              "      background-color: #3B4455;\n",
              "      fill: #D2E3FC;\n",
              "    }\n",
              "\n",
              "    [theme=dark] .colab-df-convert:hover {\n",
              "      background-color: #434B5C;\n",
              "      box-shadow: 0px 1px 3px 1px rgba(0, 0, 0, 0.15);\n",
              "      filter: drop-shadow(0px 1px 2px rgba(0, 0, 0, 0.3));\n",
              "      fill: #FFFFFF;\n",
              "    }\n",
              "  </style>\n",
              "\n",
              "      <script>\n",
              "        const buttonEl =\n",
              "          document.querySelector('#df-63a7eb69-4d1b-4345-83c5-ae39b173998b button.colab-df-convert');\n",
              "        buttonEl.style.display =\n",
              "          google.colab.kernel.accessAllowed ? 'block' : 'none';\n",
              "\n",
              "        async function convertToInteractive(key) {\n",
              "          const element = document.querySelector('#df-63a7eb69-4d1b-4345-83c5-ae39b173998b');\n",
              "          const dataTable =\n",
              "            await google.colab.kernel.invokeFunction('convertToInteractive',\n",
              "                                                     [key], {});\n",
              "          if (!dataTable) return;\n",
              "\n",
              "          const docLinkHtml = 'Like what you see? Visit the ' +\n",
              "            '<a target=\"_blank\" href=https://colab.research.google.com/notebooks/data_table.ipynb>data table notebook</a>'\n",
              "            + ' to learn more about interactive tables.';\n",
              "          element.innerHTML = '';\n",
              "          dataTable['output_type'] = 'display_data';\n",
              "          await google.colab.output.renderOutput(dataTable, element);\n",
              "          const docLink = document.createElement('div');\n",
              "          docLink.innerHTML = docLinkHtml;\n",
              "          element.appendChild(docLink);\n",
              "        }\n",
              "      </script>\n",
              "    </div>\n",
              "  </div>\n",
              "  "
            ]
          },
          "metadata": {},
          "execution_count": 9
        }
      ]
    },
    {
      "cell_type": "markdown",
      "source": [
        "# 날짜 표현"
      ],
      "metadata": {
        "id": "ZhW0thXyHz98"
      }
    },
    {
      "cell_type": "code",
      "source": [
        "from datetime import datetime\n",
        "\n",
        "datetime.now()"
      ],
      "metadata": {
        "colab": {
          "base_uri": "https://localhost:8080/"
        },
        "id": "H3ZFw9HsHqrU",
        "outputId": "c2151a2e-2230-4398-cfd8-1b5a84e1cf87"
      },
      "execution_count": 10,
      "outputs": [
        {
          "output_type": "execute_result",
          "data": {
            "text/plain": [
              "datetime.datetime(2022, 7, 4, 12, 11, 57, 749773)"
            ]
          },
          "metadata": {},
          "execution_count": 10
        }
      ]
    },
    {
      "cell_type": "code",
      "source": [
        "d1 = datetime.now()\n",
        "type(d1)\n",
        "\n",
        "d1.year     # 연\n",
        "d1.month    # 월\n",
        "d1.day      # 일"
      ],
      "metadata": {
        "colab": {
          "base_uri": "https://localhost:8080/"
        },
        "id": "_tkpUVPNH-k6",
        "outputId": "940e2264-b02b-4e76-c520-dbd50ac751b7"
      },
      "execution_count": 11,
      "outputs": [
        {
          "output_type": "execute_result",
          "data": {
            "text/plain": [
              "4"
            ]
          },
          "metadata": {},
          "execution_count": 11
        }
      ]
    },
    {
      "cell_type": "code",
      "source": [
        "# 1. 날짜 파싱 \n",
        "d2='2022/01/01'\n",
        "d2.year\n",
        "# AttributeError: 'str' object has no attribute 'year'\n",
        "\n",
        "# datetime.strptime(date_string, format)\n",
        "# 벡터 연산이 안됨\n",
        "\n",
        "datetime.strptime(d2, '%Y/%m/%d')\n",
        "# datetime.datetime(2022, 1, 1, 0, 0)\n",
        "\n",
        "datetime.strptime('09/12/25', '%m/%d/%y') # 2025년 09월 12일 해석\n",
        "# datetime.datetime(2025, 9, 12, 0, 0)"
      ],
      "metadata": {
        "id": "U5Wx0GcgIH0o"
      },
      "execution_count": null,
      "outputs": []
    },
    {
      "cell_type": "code",
      "source": [
        "# 2. Series 벡터 연산 불가 \n",
        "# 1) 해결방안 : map()\n",
        "s1 = Series(['2022/01/01','2022/01/02','2022/01/03'])\n",
        "datetime.strptime(s1,'%Y/%m/%d')\n",
        "# TypeError: strptime() argument 1 must be str, not Series\n",
        "s1.map(lambda x: datetime.strptime(x, '%Y/%m/%d'))\n",
        "'''\n",
        "0   2022-01-01\n",
        "1   2022-01-02\n",
        "2   2022-01-03\n",
        "dtype: datetime64[ns]\n",
        "'''\n",
        "\n",
        "# 2) pd.to_datetime\n",
        "# 벡터 연산가능\n",
        "s1\n",
        "pd.to_datetime(s1)\n",
        "\n",
        "'''\n",
        "0   2022-01-01\n",
        "1   2022-01-02\n",
        "2   2022-01-03\n",
        "dtype: datetime64[ns]\n",
        "'''\n",
        "s1\n",
        "type(s1)\n",
        "pd.to_datetime(s1, infer_datetime_format=True)\n",
        "s2 = pd.to_datetime(s1, infer_datetime_format=True)\n",
        "\n",
        "\n",
        "s3 = pd.DataFrame({'date' : ['01-05-21','01-06-21','01-07-21',]})\n",
        "s3.dtypes\n",
        "s3"
      ],
      "metadata": {
        "colab": {
          "base_uri": "https://localhost:8080/",
          "height": 143
        },
        "id": "x_1K4JqvIUpA",
        "outputId": "0e563a06-03f2-4fe3-b342-198c4a044ff5"
      },
      "execution_count": 13,
      "outputs": [
        {
          "output_type": "execute_result",
          "data": {
            "text/plain": [
              "       date\n",
              "0  01-05-21\n",
              "1  01-06-21\n",
              "2  01-07-21"
            ],
            "text/html": [
              "\n",
              "  <div id=\"df-7e2250a8-4d42-4962-afc5-ed0fc2b40ba9\">\n",
              "    <div class=\"colab-df-container\">\n",
              "      <div>\n",
              "<style scoped>\n",
              "    .dataframe tbody tr th:only-of-type {\n",
              "        vertical-align: middle;\n",
              "    }\n",
              "\n",
              "    .dataframe tbody tr th {\n",
              "        vertical-align: top;\n",
              "    }\n",
              "\n",
              "    .dataframe thead th {\n",
              "        text-align: right;\n",
              "    }\n",
              "</style>\n",
              "<table border=\"1\" class=\"dataframe\">\n",
              "  <thead>\n",
              "    <tr style=\"text-align: right;\">\n",
              "      <th></th>\n",
              "      <th>date</th>\n",
              "    </tr>\n",
              "  </thead>\n",
              "  <tbody>\n",
              "    <tr>\n",
              "      <th>0</th>\n",
              "      <td>01-05-21</td>\n",
              "    </tr>\n",
              "    <tr>\n",
              "      <th>1</th>\n",
              "      <td>01-06-21</td>\n",
              "    </tr>\n",
              "    <tr>\n",
              "      <th>2</th>\n",
              "      <td>01-07-21</td>\n",
              "    </tr>\n",
              "  </tbody>\n",
              "</table>\n",
              "</div>\n",
              "      <button class=\"colab-df-convert\" onclick=\"convertToInteractive('df-7e2250a8-4d42-4962-afc5-ed0fc2b40ba9')\"\n",
              "              title=\"Convert this dataframe to an interactive table.\"\n",
              "              style=\"display:none;\">\n",
              "        \n",
              "  <svg xmlns=\"http://www.w3.org/2000/svg\" height=\"24px\"viewBox=\"0 0 24 24\"\n",
              "       width=\"24px\">\n",
              "    <path d=\"M0 0h24v24H0V0z\" fill=\"none\"/>\n",
              "    <path d=\"M18.56 5.44l.94 2.06.94-2.06 2.06-.94-2.06-.94-.94-2.06-.94 2.06-2.06.94zm-11 1L8.5 8.5l.94-2.06 2.06-.94-2.06-.94L8.5 2.5l-.94 2.06-2.06.94zm10 10l.94 2.06.94-2.06 2.06-.94-2.06-.94-.94-2.06-.94 2.06-2.06.94z\"/><path d=\"M17.41 7.96l-1.37-1.37c-.4-.4-.92-.59-1.43-.59-.52 0-1.04.2-1.43.59L10.3 9.45l-7.72 7.72c-.78.78-.78 2.05 0 2.83L4 21.41c.39.39.9.59 1.41.59.51 0 1.02-.2 1.41-.59l7.78-7.78 2.81-2.81c.8-.78.8-2.07 0-2.86zM5.41 20L4 18.59l7.72-7.72 1.47 1.35L5.41 20z\"/>\n",
              "  </svg>\n",
              "      </button>\n",
              "      \n",
              "  <style>\n",
              "    .colab-df-container {\n",
              "      display:flex;\n",
              "      flex-wrap:wrap;\n",
              "      gap: 12px;\n",
              "    }\n",
              "\n",
              "    .colab-df-convert {\n",
              "      background-color: #E8F0FE;\n",
              "      border: none;\n",
              "      border-radius: 50%;\n",
              "      cursor: pointer;\n",
              "      display: none;\n",
              "      fill: #1967D2;\n",
              "      height: 32px;\n",
              "      padding: 0 0 0 0;\n",
              "      width: 32px;\n",
              "    }\n",
              "\n",
              "    .colab-df-convert:hover {\n",
              "      background-color: #E2EBFA;\n",
              "      box-shadow: 0px 1px 2px rgba(60, 64, 67, 0.3), 0px 1px 3px 1px rgba(60, 64, 67, 0.15);\n",
              "      fill: #174EA6;\n",
              "    }\n",
              "\n",
              "    [theme=dark] .colab-df-convert {\n",
              "      background-color: #3B4455;\n",
              "      fill: #D2E3FC;\n",
              "    }\n",
              "\n",
              "    [theme=dark] .colab-df-convert:hover {\n",
              "      background-color: #434B5C;\n",
              "      box-shadow: 0px 1px 3px 1px rgba(0, 0, 0, 0.15);\n",
              "      filter: drop-shadow(0px 1px 2px rgba(0, 0, 0, 0.3));\n",
              "      fill: #FFFFFF;\n",
              "    }\n",
              "  </style>\n",
              "\n",
              "      <script>\n",
              "        const buttonEl =\n",
              "          document.querySelector('#df-7e2250a8-4d42-4962-afc5-ed0fc2b40ba9 button.colab-df-convert');\n",
              "        buttonEl.style.display =\n",
              "          google.colab.kernel.accessAllowed ? 'block' : 'none';\n",
              "\n",
              "        async function convertToInteractive(key) {\n",
              "          const element = document.querySelector('#df-7e2250a8-4d42-4962-afc5-ed0fc2b40ba9');\n",
              "          const dataTable =\n",
              "            await google.colab.kernel.invokeFunction('convertToInteractive',\n",
              "                                                     [key], {});\n",
              "          if (!dataTable) return;\n",
              "\n",
              "          const docLinkHtml = 'Like what you see? Visit the ' +\n",
              "            '<a target=\"_blank\" href=https://colab.research.google.com/notebooks/data_table.ipynb>data table notebook</a>'\n",
              "            + ' to learn more about interactive tables.';\n",
              "          element.innerHTML = '';\n",
              "          dataTable['output_type'] = 'display_data';\n",
              "          await google.colab.output.renderOutput(dataTable, element);\n",
              "          const docLink = document.createElement('div');\n",
              "          docLink.innerHTML = docLinkHtml;\n",
              "          element.appendChild(docLink);\n",
              "        }\n",
              "      </script>\n",
              "    </div>\n",
              "  </div>\n",
              "  "
            ]
          },
          "metadata": {},
          "execution_count": 13
        }
      ]
    },
    {
      "cell_type": "code",
      "source": [
        "# 3. 날짜 포맷 변경 datetime.strftime(string format time)\n",
        "# 요일 추출(날짜에서 요일을 return 하도록 날짜 출력 형식 변경)\n",
        "# (연/월/일) --> (월/일/연) 순서로 변경\n",
        "# (주의) 날짜 포맷 변경 한 후 return 데이터 타입은 무조건 문자라는 사실 !!!\n",
        "\n",
        "d1 = datetime.now()\n",
        "d1\n",
        "datetime.strftime(d1, '%a') # 요일 리턴 (축약형) 'Wed'\n",
        "datetime.strftime(d1, '%A') # 요일 리턴 (완전체) 'Wednesday'\n",
        "datetime.strftime(d1, '%m-%d,%Y') #'12-29,2021'\n",
        "\n",
        "datetime.strftime(d1, '%Y') # 연도 리턴 (완전체) '2021'\n",
        "datetime.strftime(d1, '%y') # 연도 리턴 (완전체) '21'\n",
        "\n",
        "s2\n",
        "datetime.strftime(s2, '%Y') # 벡터연산 불가 \n",
        "#TypeError: descriptor 'strftime' for 'datetime.date' objects doesn't apply to a 'Series' object\n",
        "s2.map(lambda x: datetime.strftime(x, '%Y'))"
      ],
      "metadata": {
        "id": "EXSkDzDtIbAk"
      },
      "execution_count": 15,
      "outputs": []
    },
    {
      "cell_type": "code",
      "source": [
        "## 4. 날짜 연산 *** \n",
        "d1         # 현재 날짜\n",
        "d1+100     # 안되네 ㅜㅜ 100일 기념일 프로그램 만들어 되는데...\n",
        "\n",
        "# 오늘 날짜로부터 100일 뒤 날짜 리턴 불가 (타입이 틀려)\n",
        "# TypeError: unsupported operand type(s) for +: 'datetime.datetime' and 'int'\n",
        "\n",
        "# (1) offset \n",
        "\n",
        "from pandas.tseries.offsets import Day, Hour, Second\n",
        "d1 + Day(100)\n",
        "# Timestamp('2022-04-08 12:57:51.598643')\n",
        "\n",
        "# (2) timedelta (날짜와의 차이)\n",
        "\n",
        "from datetime import timedelta\n",
        "\n",
        "d1 + timedelta(100) \n",
        "# datetime.datetime(2022, 4, 8, 12, 57, 51, 598643)\n",
        "# 오늘 일자부터 100일 뒤 리턴해줌\n",
        "\n",
        "# (3) (실무용) DateOffset *** (KING!! 추천)\n",
        "d1 + pd.DateOffset(months = 4)"
      ],
      "metadata": {
        "id": "CPGAqOk_IqUW"
      },
      "execution_count": null,
      "outputs": []
    },
    {
      "cell_type": "code",
      "source": [
        "# 5. 날짜 - 날짜 \n",
        "d1 - datetime.strptime(d2, '%Y/%m/%d')\n",
        "# datetime.timedelta(days=-3, seconds=46671, microseconds=598643)\n",
        "d3 = d1 - datetime.strptime(d2, '%Y/%m/%d')\n",
        "\n",
        "d3.days\n",
        "d3.seconds"
      ],
      "metadata": {
        "id": "_pLTKaduI_w6"
      },
      "execution_count": null,
      "outputs": []
    },
    {
      "cell_type": "code",
      "source": [
        "# [연습문제]\n",
        "# 요일별 통화건 수 총합 \n",
        "\n",
        "deli = pd.read_csv('./data/delivery.csv', encoding='cp949')\n",
        "\n",
        "\n",
        "deli.dtypes\n",
        "'''\n",
        "일자       int64\n",
        "시간대      int64\n",
        "업종      object\n",
        "시도      object\n",
        "시군구     object\n",
        "읍면동     object\n",
        "통화건수     int64\n",
        "dtype: object\n",
        "'''\n",
        "deli.head()\n",
        "deli.info()\n",
        "'''\n",
        "<class 'pandas.core.frame.DataFrame'>\n",
        "RangeIndex: 119189 entries, 0 to 119188\n",
        "Data columns (total 7 columns):\n",
        " #   Column  Non-Null Count   Dtype \n",
        "---  ------  --------------   ----- \n",
        " 0   일자      119189 non-null  int64 \n",
        " 1   시간대     119189 non-null  int64 \n",
        " 2   업종      119189 non-null  object\n",
        " 3   시도      119189 non-null  object\n",
        " 4   시군구     119189 non-null  object\n",
        " 5   읍면동     119189 non-null  object\n",
        " 6   통화건수    119189 non-null  int64 \n",
        "dtypes: int64(3), object(4)\n",
        "memory usage: 6.4+ MB\n",
        "'''\n",
        "deli.describe() \n",
        "'''\n",
        "                 일자            시간대           통화건수\n",
        "count  1.191890e+05  119189.000000  119189.000000\n",
        "mean   2.018021e+07      15.576362       9.916486\n",
        "std    8.234111e+00       5.321848      13.904536\n",
        "min    2.018020e+07       0.000000       5.000000\n",
        "25%    2.018021e+07      13.000000       5.000000\n",
        "50%    2.018021e+07      17.000000       5.000000\n",
        "75%    2.018022e+07      19.000000       7.000000\n",
        "max    2.018023e+07      23.000000     229.000000\n",
        "\n",
        "'''\n",
        "deli.boxplot()"
      ],
      "metadata": {
        "id": "9P05UQgTJHQS"
      },
      "execution_count": null,
      "outputs": []
    },
    {
      "cell_type": "code",
      "source": [
        "# 날짜 파싱 \n",
        "deli\n",
        "deli['일자']\n",
        "type(deli['일자'])\n",
        "pd.to_datetime(deli['일자'])\n",
        "pd.to_datetime(deli['일자'], format = '%Y%m%d')\n",
        "deli['일자'] = pd.to_datetime(deli['일자'], format = '%Y%m%d')"
      ],
      "metadata": {
        "id": "TfIFPhX_JIoe"
      },
      "execution_count": null,
      "outputs": []
    },
    {
      "cell_type": "code",
      "source": [
        "# 요일 리턴\n",
        "datetime.strftime(deli['일자'],'%A')\n",
        "# TypeError: descriptor 'strftime' for 'datetime.date' objects \n",
        "# doesn't apply to a 'Series' object\n",
        " \n",
        "deli['일자'].map(lambda x : datetime.strftime(x,'%A'))\n",
        "deli['요일'] = deli['일자'].map(lambda x : datetime.strftime(x,'%A'))\n",
        "\n",
        "'''\n",
        "0          Thursday\n",
        "1          Thursday\n",
        "2          Thursday\n",
        "3          Thursday\n",
        "4          Thursday\n",
        "   \n",
        "119184    Wednesday\n",
        "119185    Wednesday\n",
        "119186    Wednesday\n",
        "119187    Wednesday\n",
        "119188    Wednesday일\n",
        "Name: 일자, Length: 119189, dtype: object\n",
        "'''"
      ],
      "metadata": {
        "id": "INZsHoO0JNHE"
      },
      "execution_count": null,
      "outputs": []
    },
    {
      "cell_type": "code",
      "source": [
        "# 요일별로 그룹화 (통화건수)\n",
        "deli.groupby('요일')['통화건수'].sum()\n",
        "'''\n",
        "요일\n",
        "Friday       162037\n",
        "Monday       142157\n",
        "Saturday     196429\n",
        "Sunday       196096\n",
        "Thursday     150316\n",
        "Tuesday      158544\n",
        "Wednesday    176357\n",
        "Name: 통화건수, dtype: int64\n",
        "\n",
        "'''\n",
        "total = deli.groupby('요일')['통화건수'].sum()\n",
        "total[['Monday', 'Tuesday','Wednesday','Thursday','Friday','Saturday','Sunday']]\n",
        "# 월화수목금토 순으로 재배치 해야 함 \n",
        "# 아직까지도 정렬로 배치 안됨, 색인으로 처리해야 함 \n",
        "\n",
        "# 일자별 통화건수 총합 알고 싶어요. \n",
        "deli.groupby('일자')['통화건수'].sum()"
      ],
      "metadata": {
        "id": "n7Ura5lAJQTI"
      },
      "execution_count": null,
      "outputs": []
    }
  ]
}